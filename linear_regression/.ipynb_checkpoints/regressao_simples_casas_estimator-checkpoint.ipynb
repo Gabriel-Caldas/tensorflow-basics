{
 "cells": [
  {
   "cell_type": "code",
   "execution_count": 1,
   "metadata": {},
   "outputs": [
    {
     "data": {
      "text/html": [
       "<div>\n",
       "<style scoped>\n",
       "    .dataframe tbody tr th:only-of-type {\n",
       "        vertical-align: middle;\n",
       "    }\n",
       "\n",
       "    .dataframe tbody tr th {\n",
       "        vertical-align: top;\n",
       "    }\n",
       "\n",
       "    .dataframe thead th {\n",
       "        text-align: right;\n",
       "    }\n",
       "</style>\n",
       "<table border=\"1\" class=\"dataframe\">\n",
       "  <thead>\n",
       "    <tr style=\"text-align: right;\">\n",
       "      <th></th>\n",
       "      <th>id</th>\n",
       "      <th>date</th>\n",
       "      <th>price</th>\n",
       "      <th>bedrooms</th>\n",
       "      <th>bathrooms</th>\n",
       "      <th>sqft_living</th>\n",
       "      <th>sqft_lot</th>\n",
       "      <th>floors</th>\n",
       "      <th>waterfront</th>\n",
       "      <th>view</th>\n",
       "      <th>...</th>\n",
       "      <th>grade</th>\n",
       "      <th>sqft_above</th>\n",
       "      <th>sqft_basement</th>\n",
       "      <th>yr_built</th>\n",
       "      <th>yr_renovated</th>\n",
       "      <th>zipcode</th>\n",
       "      <th>lat</th>\n",
       "      <th>long</th>\n",
       "      <th>sqft_living15</th>\n",
       "      <th>sqft_lot15</th>\n",
       "    </tr>\n",
       "  </thead>\n",
       "  <tbody>\n",
       "    <tr>\n",
       "      <th>0</th>\n",
       "      <td>7129300520</td>\n",
       "      <td>20141013T000000</td>\n",
       "      <td>221900.0</td>\n",
       "      <td>3</td>\n",
       "      <td>1.00</td>\n",
       "      <td>1180</td>\n",
       "      <td>5650</td>\n",
       "      <td>1.0</td>\n",
       "      <td>0</td>\n",
       "      <td>0</td>\n",
       "      <td>...</td>\n",
       "      <td>7</td>\n",
       "      <td>1180</td>\n",
       "      <td>0</td>\n",
       "      <td>1955</td>\n",
       "      <td>0</td>\n",
       "      <td>98178</td>\n",
       "      <td>47.5112</td>\n",
       "      <td>-122.257</td>\n",
       "      <td>1340</td>\n",
       "      <td>5650</td>\n",
       "    </tr>\n",
       "    <tr>\n",
       "      <th>1</th>\n",
       "      <td>6414100192</td>\n",
       "      <td>20141209T000000</td>\n",
       "      <td>538000.0</td>\n",
       "      <td>3</td>\n",
       "      <td>2.25</td>\n",
       "      <td>2570</td>\n",
       "      <td>7242</td>\n",
       "      <td>2.0</td>\n",
       "      <td>0</td>\n",
       "      <td>0</td>\n",
       "      <td>...</td>\n",
       "      <td>7</td>\n",
       "      <td>2170</td>\n",
       "      <td>400</td>\n",
       "      <td>1951</td>\n",
       "      <td>1991</td>\n",
       "      <td>98125</td>\n",
       "      <td>47.7210</td>\n",
       "      <td>-122.319</td>\n",
       "      <td>1690</td>\n",
       "      <td>7639</td>\n",
       "    </tr>\n",
       "    <tr>\n",
       "      <th>2</th>\n",
       "      <td>5631500400</td>\n",
       "      <td>20150225T000000</td>\n",
       "      <td>180000.0</td>\n",
       "      <td>2</td>\n",
       "      <td>1.00</td>\n",
       "      <td>770</td>\n",
       "      <td>10000</td>\n",
       "      <td>1.0</td>\n",
       "      <td>0</td>\n",
       "      <td>0</td>\n",
       "      <td>...</td>\n",
       "      <td>6</td>\n",
       "      <td>770</td>\n",
       "      <td>0</td>\n",
       "      <td>1933</td>\n",
       "      <td>0</td>\n",
       "      <td>98028</td>\n",
       "      <td>47.7379</td>\n",
       "      <td>-122.233</td>\n",
       "      <td>2720</td>\n",
       "      <td>8062</td>\n",
       "    </tr>\n",
       "    <tr>\n",
       "      <th>3</th>\n",
       "      <td>2487200875</td>\n",
       "      <td>20141209T000000</td>\n",
       "      <td>604000.0</td>\n",
       "      <td>4</td>\n",
       "      <td>3.00</td>\n",
       "      <td>1960</td>\n",
       "      <td>5000</td>\n",
       "      <td>1.0</td>\n",
       "      <td>0</td>\n",
       "      <td>0</td>\n",
       "      <td>...</td>\n",
       "      <td>7</td>\n",
       "      <td>1050</td>\n",
       "      <td>910</td>\n",
       "      <td>1965</td>\n",
       "      <td>0</td>\n",
       "      <td>98136</td>\n",
       "      <td>47.5208</td>\n",
       "      <td>-122.393</td>\n",
       "      <td>1360</td>\n",
       "      <td>5000</td>\n",
       "    </tr>\n",
       "    <tr>\n",
       "      <th>4</th>\n",
       "      <td>1954400510</td>\n",
       "      <td>20150218T000000</td>\n",
       "      <td>510000.0</td>\n",
       "      <td>3</td>\n",
       "      <td>2.00</td>\n",
       "      <td>1680</td>\n",
       "      <td>8080</td>\n",
       "      <td>1.0</td>\n",
       "      <td>0</td>\n",
       "      <td>0</td>\n",
       "      <td>...</td>\n",
       "      <td>8</td>\n",
       "      <td>1680</td>\n",
       "      <td>0</td>\n",
       "      <td>1987</td>\n",
       "      <td>0</td>\n",
       "      <td>98074</td>\n",
       "      <td>47.6168</td>\n",
       "      <td>-122.045</td>\n",
       "      <td>1800</td>\n",
       "      <td>7503</td>\n",
       "    </tr>\n",
       "  </tbody>\n",
       "</table>\n",
       "<p>5 rows × 21 columns</p>\n",
       "</div>"
      ],
      "text/plain": [
       "           id             date     price  bedrooms  bathrooms  sqft_living  \\\n",
       "0  7129300520  20141013T000000  221900.0         3       1.00         1180   \n",
       "1  6414100192  20141209T000000  538000.0         3       2.25         2570   \n",
       "2  5631500400  20150225T000000  180000.0         2       1.00          770   \n",
       "3  2487200875  20141209T000000  604000.0         4       3.00         1960   \n",
       "4  1954400510  20150218T000000  510000.0         3       2.00         1680   \n",
       "\n",
       "   sqft_lot  floors  waterfront  view  ...  grade  sqft_above  sqft_basement  \\\n",
       "0      5650     1.0           0     0  ...      7        1180              0   \n",
       "1      7242     2.0           0     0  ...      7        2170            400   \n",
       "2     10000     1.0           0     0  ...      6         770              0   \n",
       "3      5000     1.0           0     0  ...      7        1050            910   \n",
       "4      8080     1.0           0     0  ...      8        1680              0   \n",
       "\n",
       "   yr_built  yr_renovated  zipcode      lat     long  sqft_living15  \\\n",
       "0      1955             0    98178  47.5112 -122.257           1340   \n",
       "1      1951          1991    98125  47.7210 -122.319           1690   \n",
       "2      1933             0    98028  47.7379 -122.233           2720   \n",
       "3      1965             0    98136  47.5208 -122.393           1360   \n",
       "4      1987             0    98074  47.6168 -122.045           1800   \n",
       "\n",
       "   sqft_lot15  \n",
       "0        5650  \n",
       "1        7639  \n",
       "2        8062  \n",
       "3        5000  \n",
       "4        7503  \n",
       "\n",
       "[5 rows x 21 columns]"
      ]
     },
     "execution_count": 1,
     "metadata": {},
     "output_type": "execute_result"
    }
   ],
   "source": [
    "import pandas as pd\n",
    "base = pd.read_csv('house_prices.csv')\n",
    "base.head()"
   ]
  },
  {
   "cell_type": "code",
   "execution_count": 2,
   "metadata": {},
   "outputs": [
    {
     "data": {
      "text/plain": [
       "(21613, 21)"
      ]
     },
     "execution_count": 2,
     "metadata": {},
     "output_type": "execute_result"
    }
   ],
   "source": [
    "base.shape"
   ]
  },
  {
   "cell_type": "code",
   "execution_count": 3,
   "metadata": {},
   "outputs": [],
   "source": [
    "X = base.iloc[:, 5:6].values\n",
    "y = base.iloc[:, 2:3].values"
   ]
  },
  {
   "cell_type": "code",
   "execution_count": 4,
   "metadata": {},
   "outputs": [
    {
     "data": {
      "text/plain": [
       "array([[1180],\n",
       "       [2570],\n",
       "       [ 770],\n",
       "       ...,\n",
       "       [1020],\n",
       "       [1600],\n",
       "       [1020]], dtype=int64)"
      ]
     },
     "execution_count": 4,
     "metadata": {},
     "output_type": "execute_result"
    }
   ],
   "source": [
    "X"
   ]
  },
  {
   "cell_type": "code",
   "execution_count": 5,
   "metadata": {},
   "outputs": [
    {
     "data": {
      "text/plain": [
       "array([[221900.],\n",
       "       [538000.],\n",
       "       [180000.],\n",
       "       ...,\n",
       "       [402101.],\n",
       "       [400000.],\n",
       "       [325000.]])"
      ]
     },
     "execution_count": 5,
     "metadata": {},
     "output_type": "execute_result"
    }
   ],
   "source": [
    "y"
   ]
  },
  {
   "cell_type": "code",
   "execution_count": 6,
   "metadata": {},
   "outputs": [],
   "source": [
    "from sklearn.preprocessing import StandardScaler\n",
    "scaler_x = StandardScaler()\n",
    "X = scaler_x.fit_transform(X)\n",
    "scaler_y = StandardScaler()\n",
    "y = scaler_y.fit_transform(y)"
   ]
  },
  {
   "cell_type": "code",
   "execution_count": 7,
   "metadata": {},
   "outputs": [
    {
     "data": {
      "text/plain": [
       "array([[-0.97983502],\n",
       "       [ 0.53363434],\n",
       "       [-1.42625404],\n",
       "       ...,\n",
       "       [-1.15404732],\n",
       "       [-0.52252773],\n",
       "       [-1.15404732]])"
      ]
     },
     "execution_count": 7,
     "metadata": {},
     "output_type": "execute_result"
    }
   ],
   "source": [
    "X"
   ]
  },
  {
   "cell_type": "code",
   "execution_count": 8,
   "metadata": {},
   "outputs": [
    {
     "data": {
      "text/plain": [
       "array([[-0.86671733],\n",
       "       [-0.00568792],\n",
       "       [-0.98084935],\n",
       "       ...,\n",
       "       [-0.37586519],\n",
       "       [-0.38158814],\n",
       "       [-0.58588173]])"
      ]
     },
     "execution_count": 8,
     "metadata": {},
     "output_type": "execute_result"
    }
   ],
   "source": [
    "y"
   ]
  },
  {
   "cell_type": "code",
   "execution_count": 9,
   "metadata": {},
   "outputs": [],
   "source": [
    "import tensorflow as tf"
   ]
  },
  {
   "cell_type": "code",
   "execution_count": 10,
   "metadata": {},
   "outputs": [],
   "source": [
    "colunas = [tf.feature_column.numeric_column('x', shape = [1])]"
   ]
  },
  {
   "cell_type": "code",
   "execution_count": 11,
   "metadata": {},
   "outputs": [
    {
     "data": {
      "text/plain": [
       "[NumericColumn(key='x', shape=(1,), default_value=None, dtype=tf.float32, normalizer_fn=None)]"
      ]
     },
     "execution_count": 11,
     "metadata": {},
     "output_type": "execute_result"
    }
   ],
   "source": [
    "colunas"
   ]
  },
  {
   "cell_type": "code",
   "execution_count": 12,
   "metadata": {},
   "outputs": [
    {
     "name": "stdout",
     "output_type": "stream",
     "text": [
      "INFO:tensorflow:Using default config.\n",
      "WARNING:tensorflow:Using temporary folder as model directory: C:\\Users\\GABRIE~1.CAL\\AppData\\Local\\Temp\\tmp3di61s_1\n",
      "INFO:tensorflow:Using config: {'_model_dir': 'C:\\\\Users\\\\GABRIE~1.CAL\\\\AppData\\\\Local\\\\Temp\\\\tmp3di61s_1', '_tf_random_seed': None, '_save_summary_steps': 100, '_save_checkpoints_steps': None, '_save_checkpoints_secs': 600, '_session_config': allow_soft_placement: true\n",
      "graph_options {\n",
      "  rewrite_options {\n",
      "    meta_optimizer_iterations: ONE\n",
      "  }\n",
      "}\n",
      ", '_keep_checkpoint_max': 5, '_keep_checkpoint_every_n_hours': 10000, '_log_step_count_steps': 100, '_train_distribute': None, '_device_fn': None, '_protocol': None, '_eval_distribute': None, '_experimental_distribute': None, '_experimental_max_worker_delay_secs': None, '_session_creation_timeout_secs': 7200, '_service': None, '_cluster_spec': <tensorflow.python.training.server_lib.ClusterSpec object at 0x000001E773D09AC8>, '_task_type': 'worker', '_task_id': 0, '_global_id_in_cluster': 0, '_master': '', '_evaluation_master': '', '_is_chief': True, '_num_ps_replicas': 0, '_num_worker_replicas': 1}\n"
     ]
    }
   ],
   "source": [
    "regressor = tf.estimator.LinearRegressor(feature_columns=colunas)"
   ]
  },
  {
   "cell_type": "code",
   "execution_count": 13,
   "metadata": {},
   "outputs": [],
   "source": [
    "from sklearn.model_selection import train_test_split\n",
    "X_treinamento, X_teste, y_treinamento, y_teste = train_test_split(X, y, test_size = 0.3)"
   ]
  },
  {
   "cell_type": "code",
   "execution_count": 14,
   "metadata": {},
   "outputs": [
    {
     "data": {
      "text/plain": [
       "(15129, 1)"
      ]
     },
     "execution_count": 14,
     "metadata": {},
     "output_type": "execute_result"
    }
   ],
   "source": [
    "X_treinamento.shape"
   ]
  },
  {
   "cell_type": "code",
   "execution_count": 15,
   "metadata": {},
   "outputs": [
    {
     "data": {
      "text/plain": [
       "(15129, 1)"
      ]
     },
     "execution_count": 15,
     "metadata": {},
     "output_type": "execute_result"
    }
   ],
   "source": [
    "y_treinamento.shape"
   ]
  },
  {
   "cell_type": "code",
   "execution_count": 16,
   "metadata": {},
   "outputs": [
    {
     "data": {
      "text/plain": [
       "(6484, 1)"
      ]
     },
     "execution_count": 16,
     "metadata": {},
     "output_type": "execute_result"
    }
   ],
   "source": [
    "X_teste.shape"
   ]
  },
  {
   "cell_type": "code",
   "execution_count": 17,
   "metadata": {},
   "outputs": [
    {
     "data": {
      "text/plain": [
       "(6484, 1)"
      ]
     },
     "execution_count": 17,
     "metadata": {},
     "output_type": "execute_result"
    }
   ],
   "source": [
    "y_teste.shape"
   ]
  },
  {
   "cell_type": "code",
   "execution_count": 18,
   "metadata": {},
   "outputs": [
    {
     "name": "stdout",
     "output_type": "stream",
     "text": [
      "WARNING:tensorflow:From C:\\Users\\GABRIE~1.CAL\\AppData\\Local\\Temp/ipykernel_12428/617059791.py:1: The name tf.estimator.inputs is deprecated. Please use tf.compat.v1.estimator.inputs instead.\n",
      "\n",
      "WARNING:tensorflow:From C:\\Users\\GABRIE~1.CAL\\AppData\\Local\\Temp/ipykernel_12428/617059791.py:1: The name tf.estimator.inputs.numpy_input_fn is deprecated. Please use tf.compat.v1.estimator.inputs.numpy_input_fn instead.\n",
      "\n"
     ]
    }
   ],
   "source": [
    "funcao_treinamento = tf.estimator.inputs.numpy_input_fn({'x': X_treinamento}, y_treinamento,\n",
    "                                                        batch_size = 32, num_epochs = None, \n",
    "                                                        shuffle = True)"
   ]
  },
  {
   "cell_type": "code",
   "execution_count": 19,
   "metadata": {},
   "outputs": [],
   "source": [
    "funcao_teste = tf.estimator.inputs.numpy_input_fn({'x': X_teste}, y_teste, batch_size = 32, \n",
    "                                                  num_epochs = 1000, shuffle = False)"
   ]
  },
  {
   "cell_type": "code",
   "execution_count": 20,
   "metadata": {},
   "outputs": [
    {
     "name": "stdout",
     "output_type": "stream",
     "text": [
      "WARNING:tensorflow:From C:\\Users\\gabriel.caldas\\Anaconda3\\envs\\tf1x\\lib\\site-packages\\tensorflow_core\\python\\training\\training_util.py:236: Variable.initialized_value (from tensorflow.python.ops.variables) is deprecated and will be removed in a future version.\n",
      "Instructions for updating:\n",
      "Use Variable.read_value. Variables in 2.X are initialized automatically both in eager and graph (inside tf.defun) contexts.\n",
      "WARNING:tensorflow:From C:\\Users\\gabriel.caldas\\Anaconda3\\envs\\tf1x\\lib\\site-packages\\tensorflow_estimator\\python\\estimator\\inputs\\queues\\feeding_queue_runner.py:62: QueueRunner.__init__ (from tensorflow.python.training.queue_runner_impl) is deprecated and will be removed in a future version.\n",
      "Instructions for updating:\n",
      "To construct input pipelines, use the `tf.data` module.\n",
      "WARNING:tensorflow:From C:\\Users\\gabriel.caldas\\Anaconda3\\envs\\tf1x\\lib\\site-packages\\tensorflow_estimator\\python\\estimator\\inputs\\queues\\feeding_functions.py:500: add_queue_runner (from tensorflow.python.training.queue_runner_impl) is deprecated and will be removed in a future version.\n",
      "Instructions for updating:\n",
      "To construct input pipelines, use the `tf.data` module.\n",
      "INFO:tensorflow:Calling model_fn.\n",
      "WARNING:tensorflow:From C:\\Users\\gabriel.caldas\\Anaconda3\\envs\\tf1x\\lib\\site-packages\\tensorflow_core\\python\\feature_column\\feature_column_v2.py:305: Layer.add_variable (from tensorflow.python.keras.engine.base_layer) is deprecated and will be removed in a future version.\n",
      "Instructions for updating:\n",
      "Please use `layer.add_weight` method instead.\n",
      "WARNING:tensorflow:From C:\\Users\\gabriel.caldas\\Anaconda3\\envs\\tf1x\\lib\\site-packages\\tensorflow_core\\python\\ops\\resource_variable_ops.py:1630: calling BaseResourceVariable.__init__ (from tensorflow.python.ops.resource_variable_ops) with constraint is deprecated and will be removed in a future version.\n",
      "Instructions for updating:\n",
      "If using Keras pass *_constraint arguments to layers.\n",
      "WARNING:tensorflow:From C:\\Users\\gabriel.caldas\\Anaconda3\\envs\\tf1x\\lib\\site-packages\\tensorflow_estimator\\python\\estimator\\canned\\linear.py:308: to_float (from tensorflow.python.ops.math_ops) is deprecated and will be removed in a future version.\n",
      "Instructions for updating:\n",
      "Use `tf.cast` instead.\n",
      "INFO:tensorflow:Done calling model_fn.\n",
      "INFO:tensorflow:Create CheckpointSaverHook.\n",
      "WARNING:tensorflow:From C:\\Users\\gabriel.caldas\\Anaconda3\\envs\\tf1x\\lib\\site-packages\\tensorflow_core\\python\\ops\\array_ops.py:1475: where (from tensorflow.python.ops.array_ops) is deprecated and will be removed in a future version.\n",
      "Instructions for updating:\n",
      "Use tf.where in 2.0, which has the same broadcast rule as np.where\n",
      "INFO:tensorflow:Graph was finalized.\n",
      "INFO:tensorflow:Running local_init_op.\n",
      "INFO:tensorflow:Done running local_init_op.\n",
      "WARNING:tensorflow:From C:\\Users\\gabriel.caldas\\Anaconda3\\envs\\tf1x\\lib\\site-packages\\tensorflow_core\\python\\training\\monitored_session.py:882: start_queue_runners (from tensorflow.python.training.queue_runner_impl) is deprecated and will be removed in a future version.\n",
      "Instructions for updating:\n",
      "To construct input pipelines, use the `tf.data` module.\n",
      "INFO:tensorflow:Saving checkpoints for 0 into C:\\Users\\GABRIE~1.CAL\\AppData\\Local\\Temp\\tmp3di61s_1\\model.ckpt.\n",
      "INFO:tensorflow:loss = 21.5132, step = 1\n",
      "INFO:tensorflow:global_step/sec: 1088.93\n",
      "INFO:tensorflow:loss = 12.624136, step = 101 (0.094 sec)\n",
      "INFO:tensorflow:global_step/sec: 1333.82\n",
      "INFO:tensorflow:loss = 16.260916, step = 201 (0.073 sec)\n",
      "INFO:tensorflow:global_step/sec: 1286.28\n",
      "INFO:tensorflow:loss = 29.763401, step = 301 (0.078 sec)\n",
      "INFO:tensorflow:global_step/sec: 1373.44\n",
      "INFO:tensorflow:loss = 27.496523, step = 401 (0.073 sec)\n",
      "INFO:tensorflow:global_step/sec: 1373.55\n",
      "INFO:tensorflow:loss = 17.748672, step = 501 (0.074 sec)\n",
      "INFO:tensorflow:global_step/sec: 1388.59\n",
      "INFO:tensorflow:loss = 39.38907, step = 601 (0.072 sec)\n",
      "INFO:tensorflow:global_step/sec: 1453.03\n",
      "INFO:tensorflow:loss = 13.378892, step = 701 (0.068 sec)\n",
      "INFO:tensorflow:global_step/sec: 1355.06\n",
      "INFO:tensorflow:loss = 9.060677, step = 801 (0.074 sec)\n",
      "INFO:tensorflow:global_step/sec: 1229.36\n",
      "INFO:tensorflow:loss = 12.486161, step = 901 (0.082 sec)\n",
      "INFO:tensorflow:global_step/sec: 1302.16\n",
      "INFO:tensorflow:loss = 37.720695, step = 1001 (0.076 sec)\n",
      "INFO:tensorflow:global_step/sec: 1452.79\n",
      "INFO:tensorflow:loss = 10.019786, step = 1101 (0.069 sec)\n",
      "INFO:tensorflow:global_step/sec: 1679.99\n",
      "INFO:tensorflow:loss = 9.709534, step = 1201 (0.060 sec)\n",
      "INFO:tensorflow:global_step/sec: 1307.56\n",
      "INFO:tensorflow:loss = 9.426195, step = 1301 (0.077 sec)\n",
      "INFO:tensorflow:global_step/sec: 1336.91\n",
      "INFO:tensorflow:loss = 9.701511, step = 1401 (0.075 sec)\n",
      "INFO:tensorflow:global_step/sec: 1222.35\n",
      "INFO:tensorflow:loss = 10.255747, step = 1501 (0.083 sec)\n",
      "INFO:tensorflow:global_step/sec: 1146.05\n",
      "INFO:tensorflow:loss = 12.283184, step = 1601 (0.086 sec)\n",
      "INFO:tensorflow:global_step/sec: 1262.49\n",
      "INFO:tensorflow:loss = 5.7562633, step = 1701 (0.079 sec)\n",
      "INFO:tensorflow:global_step/sec: 1212.87\n",
      "INFO:tensorflow:loss = 25.958609, step = 1801 (0.084 sec)\n",
      "INFO:tensorflow:global_step/sec: 1169.48\n",
      "INFO:tensorflow:loss = 11.028397, step = 1901 (0.085 sec)\n",
      "INFO:tensorflow:global_step/sec: 1231.29\n",
      "INFO:tensorflow:loss = 19.28011, step = 2001 (0.081 sec)\n",
      "INFO:tensorflow:global_step/sec: 1316.82\n",
      "INFO:tensorflow:loss = 8.611159, step = 2101 (0.076 sec)\n",
      "INFO:tensorflow:global_step/sec: 1373.53\n",
      "INFO:tensorflow:loss = 12.662932, step = 2201 (0.073 sec)\n",
      "INFO:tensorflow:global_step/sec: 1373.52\n",
      "INFO:tensorflow:loss = 7.688382, step = 2301 (0.073 sec)\n",
      "INFO:tensorflow:global_step/sec: 1219.04\n",
      "INFO:tensorflow:loss = 11.313147, step = 2401 (0.082 sec)\n",
      "INFO:tensorflow:global_step/sec: 1214.27\n",
      "INFO:tensorflow:loss = 11.692689, step = 2501 (0.084 sec)\n",
      "INFO:tensorflow:global_step/sec: 1165.9\n",
      "INFO:tensorflow:loss = 18.05713, step = 2601 (0.085 sec)\n",
      "INFO:tensorflow:global_step/sec: 1290.96\n",
      "INFO:tensorflow:loss = 16.135702, step = 2701 (0.078 sec)\n",
      "INFO:tensorflow:global_step/sec: 1384.52\n",
      "INFO:tensorflow:loss = 16.15345, step = 2801 (0.072 sec)\n",
      "INFO:tensorflow:global_step/sec: 1319.33\n",
      "INFO:tensorflow:loss = 17.417097, step = 2901 (0.075 sec)\n",
      "INFO:tensorflow:global_step/sec: 1319.32\n",
      "INFO:tensorflow:loss = 30.639599, step = 3001 (0.076 sec)\n",
      "INFO:tensorflow:global_step/sec: 1222.76\n",
      "INFO:tensorflow:loss = 15.278936, step = 3101 (0.082 sec)\n",
      "INFO:tensorflow:global_step/sec: 1269.21\n",
      "INFO:tensorflow:loss = 35.977463, step = 3201 (0.079 sec)\n",
      "INFO:tensorflow:global_step/sec: 1354.96\n",
      "INFO:tensorflow:loss = 14.083177, step = 3301 (0.075 sec)\n",
      "INFO:tensorflow:global_step/sec: 1373.01\n",
      "INFO:tensorflow:loss = 9.158548, step = 3401 (0.073 sec)\n",
      "INFO:tensorflow:global_step/sec: 1253.78\n",
      "INFO:tensorflow:loss = 11.674024, step = 3501 (0.080 sec)\n",
      "INFO:tensorflow:global_step/sec: 1209.53\n",
      "INFO:tensorflow:loss = 8.515678, step = 3601 (0.082 sec)\n",
      "INFO:tensorflow:global_step/sec: 1245.19\n",
      "INFO:tensorflow:loss = 9.461688, step = 3701 (0.080 sec)\n",
      "INFO:tensorflow:global_step/sec: 1254.72\n",
      "INFO:tensorflow:loss = 12.930443, step = 3801 (0.080 sec)\n",
      "INFO:tensorflow:global_step/sec: 1207.39\n",
      "INFO:tensorflow:loss = 20.647226, step = 3901 (0.083 sec)\n",
      "INFO:tensorflow:global_step/sec: 1253.32\n",
      "INFO:tensorflow:loss = 10.402755, step = 4001 (0.081 sec)\n",
      "INFO:tensorflow:global_step/sec: 1269.23\n",
      "INFO:tensorflow:loss = 7.3093815, step = 4101 (0.078 sec)\n",
      "INFO:tensorflow:global_step/sec: 1302.19\n",
      "INFO:tensorflow:loss = 14.214676, step = 4201 (0.077 sec)\n",
      "INFO:tensorflow:global_step/sec: 1453.15\n",
      "INFO:tensorflow:loss = 86.73604, step = 4301 (0.069 sec)\n",
      "INFO:tensorflow:global_step/sec: 1383.29\n",
      "INFO:tensorflow:loss = 8.787433, step = 4401 (0.072 sec)\n",
      "INFO:tensorflow:global_step/sec: 1338.42\n",
      "INFO:tensorflow:loss = 17.767536, step = 4501 (0.076 sec)\n",
      "INFO:tensorflow:global_step/sec: 1453.15\n",
      "INFO:tensorflow:loss = 8.934093, step = 4601 (0.068 sec)\n",
      "INFO:tensorflow:global_step/sec: 1386.34\n",
      "INFO:tensorflow:loss = 7.7336016, step = 4701 (0.072 sec)\n",
      "INFO:tensorflow:global_step/sec: 1320.17\n",
      "INFO:tensorflow:loss = 8.109572, step = 4801 (0.076 sec)\n",
      "INFO:tensorflow:global_step/sec: 1412.18\n",
      "INFO:tensorflow:loss = 11.121835, step = 4901 (0.071 sec)\n",
      "INFO:tensorflow:global_step/sec: 1285.5\n",
      "INFO:tensorflow:loss = 8.76038, step = 5001 (0.079 sec)\n",
      "INFO:tensorflow:global_step/sec: 1354.96\n"
     ]
    },
    {
     "name": "stdout",
     "output_type": "stream",
     "text": [
      "INFO:tensorflow:loss = 44.849148, step = 5101 (0.073 sec)\n",
      "INFO:tensorflow:global_step/sec: 1320.97\n",
      "INFO:tensorflow:loss = 12.54098, step = 5201 (0.075 sec)\n",
      "INFO:tensorflow:global_step/sec: 1381.21\n",
      "INFO:tensorflow:loss = 6.2072163, step = 5301 (0.073 sec)\n",
      "INFO:tensorflow:global_step/sec: 1302.62\n",
      "INFO:tensorflow:loss = 11.453001, step = 5401 (0.078 sec)\n",
      "INFO:tensorflow:global_step/sec: 1373.54\n",
      "INFO:tensorflow:loss = 8.898409, step = 5501 (0.072 sec)\n",
      "INFO:tensorflow:global_step/sec: 1336.9\n",
      "INFO:tensorflow:loss = 10.542152, step = 5601 (0.075 sec)\n",
      "INFO:tensorflow:global_step/sec: 1432.38\n",
      "INFO:tensorflow:loss = 15.70199, step = 5701 (0.070 sec)\n",
      "INFO:tensorflow:global_step/sec: 1302.15\n",
      "INFO:tensorflow:loss = 14.979103, step = 5801 (0.077 sec)\n",
      "INFO:tensorflow:global_step/sec: 1336.93\n",
      "INFO:tensorflow:loss = 8.18484, step = 5901 (0.075 sec)\n",
      "INFO:tensorflow:global_step/sec: 1336.9\n",
      "INFO:tensorflow:loss = 10.193087, step = 6001 (0.075 sec)\n",
      "INFO:tensorflow:global_step/sec: 1319.31\n",
      "INFO:tensorflow:loss = 20.1349, step = 6101 (0.077 sec)\n",
      "INFO:tensorflow:global_step/sec: 1292.29\n",
      "INFO:tensorflow:loss = 13.2577, step = 6201 (0.076 sec)\n",
      "INFO:tensorflow:global_step/sec: 1492.03\n",
      "INFO:tensorflow:loss = 12.398727, step = 6301 (0.068 sec)\n",
      "INFO:tensorflow:global_step/sec: 1285.47\n",
      "INFO:tensorflow:loss = 21.696215, step = 6401 (0.077 sec)\n",
      "INFO:tensorflow:global_step/sec: 1285.48\n",
      "INFO:tensorflow:loss = 6.345578, step = 6501 (0.078 sec)\n",
      "INFO:tensorflow:global_step/sec: 1363.54\n",
      "INFO:tensorflow:loss = 7.122093, step = 6601 (0.073 sec)\n",
      "INFO:tensorflow:global_step/sec: 1370.32\n",
      "INFO:tensorflow:loss = 6.58289, step = 6701 (0.072 sec)\n",
      "INFO:tensorflow:global_step/sec: 1382.81\n",
      "INFO:tensorflow:loss = 8.95971, step = 6801 (0.073 sec)\n",
      "INFO:tensorflow:global_step/sec: 1223.26\n",
      "INFO:tensorflow:loss = 7.433166, step = 6901 (0.083 sec)\n",
      "INFO:tensorflow:global_step/sec: 1351.08\n",
      "INFO:tensorflow:loss = 10.002237, step = 7001 (0.074 sec)\n",
      "INFO:tensorflow:global_step/sec: 1222.73\n",
      "INFO:tensorflow:loss = 9.790592, step = 7101 (0.082 sec)\n",
      "INFO:tensorflow:global_step/sec: 1241.09\n",
      "INFO:tensorflow:loss = 19.041843, step = 7201 (0.081 sec)\n",
      "INFO:tensorflow:global_step/sec: 1373.51\n",
      "INFO:tensorflow:loss = 154.48407, step = 7301 (0.072 sec)\n",
      "INFO:tensorflow:global_step/sec: 1432.41\n",
      "INFO:tensorflow:loss = 6.19814, step = 7401 (0.070 sec)\n",
      "INFO:tensorflow:global_step/sec: 1424.83\n",
      "INFO:tensorflow:loss = 9.906226, step = 7501 (0.070 sec)\n",
      "INFO:tensorflow:global_step/sec: 1373.54\n",
      "INFO:tensorflow:loss = 7.0295396, step = 7601 (0.073 sec)\n",
      "INFO:tensorflow:global_step/sec: 1374.52\n",
      "INFO:tensorflow:loss = 5.028352, step = 7701 (0.073 sec)\n",
      "INFO:tensorflow:global_step/sec: 1336.92\n",
      "INFO:tensorflow:loss = 10.11599, step = 7801 (0.075 sec)\n",
      "INFO:tensorflow:global_step/sec: 1366.81\n",
      "INFO:tensorflow:loss = 17.89846, step = 7901 (0.073 sec)\n",
      "INFO:tensorflow:global_step/sec: 1445.15\n",
      "INFO:tensorflow:loss = 7.5211596, step = 8001 (0.070 sec)\n",
      "INFO:tensorflow:global_step/sec: 1392.62\n",
      "INFO:tensorflow:loss = 11.110147, step = 8101 (0.072 sec)\n",
      "INFO:tensorflow:global_step/sec: 1174.17\n",
      "INFO:tensorflow:loss = 11.218665, step = 8201 (0.084 sec)\n",
      "INFO:tensorflow:global_step/sec: 1343.76\n",
      "INFO:tensorflow:loss = 15.902939, step = 8301 (0.074 sec)\n",
      "INFO:tensorflow:global_step/sec: 1366.47\n",
      "INFO:tensorflow:loss = 8.181456, step = 8401 (0.073 sec)\n",
      "INFO:tensorflow:global_step/sec: 1342.19\n",
      "INFO:tensorflow:loss = 12.59595, step = 8501 (0.076 sec)\n",
      "INFO:tensorflow:global_step/sec: 1432.37\n",
      "INFO:tensorflow:loss = 21.717312, step = 8601 (0.070 sec)\n",
      "INFO:tensorflow:global_step/sec: 1354.51\n",
      "INFO:tensorflow:loss = 7.967433, step = 8701 (0.073 sec)\n",
      "INFO:tensorflow:global_step/sec: 1406.14\n",
      "INFO:tensorflow:loss = 11.626714, step = 8801 (0.071 sec)\n",
      "INFO:tensorflow:global_step/sec: 1453.17\n",
      "INFO:tensorflow:loss = 15.179581, step = 8901 (0.070 sec)\n",
      "INFO:tensorflow:global_step/sec: 1354.91\n",
      "INFO:tensorflow:loss = 7.6749454, step = 9001 (0.073 sec)\n",
      "INFO:tensorflow:global_step/sec: 1333.55\n",
      "INFO:tensorflow:loss = 14.364253, step = 9101 (0.075 sec)\n",
      "INFO:tensorflow:global_step/sec: 1352.18\n",
      "INFO:tensorflow:loss = 16.61486, step = 9201 (0.075 sec)\n",
      "INFO:tensorflow:global_step/sec: 1358.96\n",
      "INFO:tensorflow:loss = 8.509442, step = 9301 (0.073 sec)\n",
      "INFO:tensorflow:global_step/sec: 1379.22\n",
      "INFO:tensorflow:loss = 11.821447, step = 9401 (0.072 sec)\n",
      "INFO:tensorflow:global_step/sec: 1387.54\n",
      "INFO:tensorflow:loss = 7.457096, step = 9501 (0.072 sec)\n",
      "INFO:tensorflow:global_step/sec: 1389.77\n",
      "INFO:tensorflow:loss = 5.5857577, step = 9601 (0.072 sec)\n",
      "INFO:tensorflow:global_step/sec: 1388.65\n",
      "INFO:tensorflow:loss = 10.039522, step = 9701 (0.073 sec)\n",
      "INFO:tensorflow:global_step/sec: 1500.71\n",
      "INFO:tensorflow:loss = 13.038564, step = 9801 (0.066 sec)\n",
      "INFO:tensorflow:global_step/sec: 1544.1\n",
      "INFO:tensorflow:loss = 9.001479, step = 9901 (0.065 sec)\n",
      "INFO:tensorflow:Saving checkpoints for 10000 into C:\\Users\\GABRIE~1.CAL\\AppData\\Local\\Temp\\tmp3di61s_1\\model.ckpt.\n",
      "INFO:tensorflow:Loss for final step: 18.792715.\n"
     ]
    },
    {
     "data": {
      "text/plain": [
       "<tensorflow_estimator.python.estimator.canned.linear.LinearRegressor at 0x1e773d09748>"
      ]
     },
     "execution_count": 20,
     "metadata": {},
     "output_type": "execute_result"
    }
   ],
   "source": [
    "regressor.train(input_fn = funcao_treinamento, steps = 10000)"
   ]
  },
  {
   "cell_type": "code",
   "execution_count": 21,
   "metadata": {},
   "outputs": [
    {
     "name": "stdout",
     "output_type": "stream",
     "text": [
      "INFO:tensorflow:Calling model_fn.\n",
      "INFO:tensorflow:Done calling model_fn.\n",
      "INFO:tensorflow:Starting evaluation at 2021-12-08T13:40:46Z\n",
      "INFO:tensorflow:Graph was finalized.\n",
      "INFO:tensorflow:Restoring parameters from C:\\Users\\GABRIE~1.CAL\\AppData\\Local\\Temp\\tmp3di61s_1\\model.ckpt-10000\n",
      "INFO:tensorflow:Running local_init_op.\n",
      "INFO:tensorflow:Done running local_init_op.\n",
      "INFO:tensorflow:Evaluation [1000/10000]\n",
      "INFO:tensorflow:Evaluation [2000/10000]\n",
      "INFO:tensorflow:Evaluation [3000/10000]\n",
      "INFO:tensorflow:Evaluation [4000/10000]\n",
      "INFO:tensorflow:Evaluation [5000/10000]\n",
      "INFO:tensorflow:Evaluation [6000/10000]\n",
      "INFO:tensorflow:Evaluation [7000/10000]\n",
      "INFO:tensorflow:Evaluation [8000/10000]\n",
      "INFO:tensorflow:Evaluation [9000/10000]\n",
      "INFO:tensorflow:Evaluation [10000/10000]\n",
      "INFO:tensorflow:Finished evaluation at 2021-12-08-13:40:52\n",
      "INFO:tensorflow:Saving dict for global step 10000: average_loss = 0.49631035, global_step = 10000, label/mean = -0.0036975662, loss = 15.881931, prediction/mean = -0.00806096\n",
      "INFO:tensorflow:Saving 'checkpoint_path' summary for global step 10000: C:\\Users\\GABRIE~1.CAL\\AppData\\Local\\Temp\\tmp3di61s_1\\model.ckpt-10000\n"
     ]
    }
   ],
   "source": [
    "metricas_treinamento = regressor.evaluate(input_fn = funcao_treinamento, steps = 10000)"
   ]
  },
  {
   "cell_type": "code",
   "execution_count": 22,
   "metadata": {},
   "outputs": [
    {
     "name": "stdout",
     "output_type": "stream",
     "text": [
      "INFO:tensorflow:Calling model_fn.\n",
      "INFO:tensorflow:Done calling model_fn.\n",
      "INFO:tensorflow:Starting evaluation at 2021-12-08T13:40:52Z\n",
      "INFO:tensorflow:Graph was finalized.\n",
      "INFO:tensorflow:Restoring parameters from C:\\Users\\GABRIE~1.CAL\\AppData\\Local\\Temp\\tmp3di61s_1\\model.ckpt-10000\n",
      "INFO:tensorflow:Running local_init_op.\n",
      "INFO:tensorflow:Done running local_init_op.\n",
      "INFO:tensorflow:Evaluation [1000/10000]\n",
      "INFO:tensorflow:Evaluation [2000/10000]\n",
      "INFO:tensorflow:Evaluation [3000/10000]\n",
      "INFO:tensorflow:Evaluation [4000/10000]\n",
      "INFO:tensorflow:Evaluation [5000/10000]\n",
      "INFO:tensorflow:Evaluation [6000/10000]\n",
      "INFO:tensorflow:Evaluation [7000/10000]\n",
      "INFO:tensorflow:Evaluation [8000/10000]\n",
      "INFO:tensorflow:Evaluation [9000/10000]\n",
      "INFO:tensorflow:Evaluation [10000/10000]\n",
      "INFO:tensorflow:Finished evaluation at 2021-12-08-13:40:59\n",
      "INFO:tensorflow:Saving dict for global step 10000: average_loss = 0.53308207, global_step = 10000, label/mean = 0.008780023, loss = 17.058626, prediction/mean = -0.001517221\n",
      "INFO:tensorflow:Saving 'checkpoint_path' summary for global step 10000: C:\\Users\\GABRIE~1.CAL\\AppData\\Local\\Temp\\tmp3di61s_1\\model.ckpt-10000\n"
     ]
    }
   ],
   "source": [
    "metricas_teste = regressor.evaluate(input_fn = funcao_teste, steps = 10000)"
   ]
  },
  {
   "cell_type": "code",
   "execution_count": 23,
   "metadata": {},
   "outputs": [
    {
     "data": {
      "text/plain": [
       "{'average_loss': 0.49631035,\n",
       " 'label/mean': -0.0036975662,\n",
       " 'loss': 15.881931,\n",
       " 'prediction/mean': -0.00806096,\n",
       " 'global_step': 10000}"
      ]
     },
     "execution_count": 23,
     "metadata": {},
     "output_type": "execute_result"
    }
   ],
   "source": [
    "metricas_treinamento"
   ]
  },
  {
   "cell_type": "code",
   "execution_count": 24,
   "metadata": {},
   "outputs": [
    {
     "data": {
      "text/plain": [
       "{'average_loss': 0.53308207,\n",
       " 'label/mean': 0.008780023,\n",
       " 'loss': 17.058626,\n",
       " 'prediction/mean': -0.001517221,\n",
       " 'global_step': 10000}"
      ]
     },
     "execution_count": 24,
     "metadata": {},
     "output_type": "execute_result"
    }
   ],
   "source": [
    "metricas_teste"
   ]
  },
  {
   "cell_type": "code",
   "execution_count": 25,
   "metadata": {},
   "outputs": [
    {
     "data": {
      "text/plain": [
       "array([[ 800],\n",
       "       [ 900],\n",
       "       [1000]])"
      ]
     },
     "execution_count": 25,
     "metadata": {},
     "output_type": "execute_result"
    }
   ],
   "source": [
    "import numpy as np\n",
    "novas_casas = np.array([[800], [900], [1000]])\n",
    "novas_casas"
   ]
  },
  {
   "cell_type": "code",
   "execution_count": 26,
   "metadata": {},
   "outputs": [
    {
     "data": {
      "text/plain": [
       "array([[-1.39358923],\n",
       "       [-1.28470655],\n",
       "       [-1.17582386]])"
      ]
     },
     "execution_count": 26,
     "metadata": {},
     "output_type": "execute_result"
    }
   ],
   "source": [
    "novas_casas = scaler_x.transform(novas_casas)\n",
    "novas_casas"
   ]
  },
  {
   "cell_type": "code",
   "execution_count": 27,
   "metadata": {},
   "outputs": [],
   "source": [
    "funcao_previsao = tf.estimator.inputs.numpy_input_fn({'x': novas_casas}, shuffle = False)"
   ]
  },
  {
   "cell_type": "code",
   "execution_count": 28,
   "metadata": {},
   "outputs": [],
   "source": [
    "previsoes = regressor.predict(input_fn = funcao_previsao)"
   ]
  },
  {
   "cell_type": "code",
   "execution_count": 29,
   "metadata": {},
   "outputs": [
    {
     "data": {
      "text/plain": [
       "<generator object Estimator.predict at 0x000001E7756F53C8>"
      ]
     },
     "execution_count": 29,
     "metadata": {},
     "output_type": "execute_result"
    }
   ],
   "source": [
    "previsoes"
   ]
  },
  {
   "cell_type": "code",
   "execution_count": 30,
   "metadata": {},
   "outputs": [
    {
     "name": "stdout",
     "output_type": "stream",
     "text": [
      "INFO:tensorflow:Calling model_fn.\n",
      "INFO:tensorflow:Done calling model_fn.\n",
      "INFO:tensorflow:Graph was finalized.\n",
      "INFO:tensorflow:Restoring parameters from C:\\Users\\GABRIE~1.CAL\\AppData\\Local\\Temp\\tmp3di61s_1\\model.ckpt-10000\n",
      "INFO:tensorflow:Running local_init_op.\n",
      "INFO:tensorflow:Done running local_init_op.\n"
     ]
    },
    {
     "data": {
      "text/plain": [
       "[{'predictions': array([-0.9644322], dtype=float32)},\n",
       " {'predictions': array([-0.88956344], dtype=float32)},\n",
       " {'predictions': array([-0.81469464], dtype=float32)}]"
      ]
     },
     "execution_count": 30,
     "metadata": {},
     "output_type": "execute_result"
    }
   ],
   "source": [
    "list(previsoes)"
   ]
  },
  {
   "cell_type": "code",
   "execution_count": 31,
   "metadata": {},
   "outputs": [
    {
     "name": "stdout",
     "output_type": "stream",
     "text": [
      "INFO:tensorflow:Calling model_fn.\n",
      "INFO:tensorflow:Done calling model_fn.\n",
      "INFO:tensorflow:Graph was finalized.\n",
      "INFO:tensorflow:Restoring parameters from C:\\Users\\GABRIE~1.CAL\\AppData\\Local\\Temp\\tmp3di61s_1\\model.ckpt-10000\n",
      "INFO:tensorflow:Running local_init_op.\n",
      "INFO:tensorflow:Done running local_init_op.\n"
     ]
    },
    {
     "ename": "ValueError",
     "evalue": "Expected 2D array, got 1D array instead:\narray=[-0.9644322].\nReshape your data either using array.reshape(-1, 1) if your data has a single feature or array.reshape(1, -1) if it contains a single sample.",
     "output_type": "error",
     "traceback": [
      "\u001b[1;31m---------------------------------------------------------------\u001b[0m",
      "\u001b[1;31mValueError\u001b[0m                    Traceback (most recent call last)",
      "\u001b[1;32mC:\\Users\\GABRIE~1.CAL\\AppData\\Local\\Temp/ipykernel_12428/1000378146.py\u001b[0m in \u001b[0;36m<module>\u001b[1;34m\u001b[0m\n\u001b[0;32m      1\u001b[0m \u001b[1;32mfor\u001b[0m \u001b[0mp\u001b[0m \u001b[1;32min\u001b[0m \u001b[0mregressor\u001b[0m\u001b[1;33m.\u001b[0m\u001b[0mpredict\u001b[0m\u001b[1;33m(\u001b[0m\u001b[0minput_fn\u001b[0m \u001b[1;33m=\u001b[0m \u001b[0mfuncao_previsao\u001b[0m\u001b[1;33m)\u001b[0m\u001b[1;33m:\u001b[0m\u001b[1;33m\u001b[0m\u001b[1;33m\u001b[0m\u001b[0m\n\u001b[0;32m      2\u001b[0m     \u001b[1;31m#print(p['predictions'])\u001b[0m\u001b[1;33m\u001b[0m\u001b[1;33m\u001b[0m\u001b[1;33m\u001b[0m\u001b[0m\n\u001b[1;32m----> 3\u001b[1;33m     \u001b[0mprint\u001b[0m\u001b[1;33m(\u001b[0m\u001b[0mscaler_y\u001b[0m\u001b[1;33m.\u001b[0m\u001b[0minverse_transform\u001b[0m\u001b[1;33m(\u001b[0m\u001b[0mp\u001b[0m\u001b[1;33m[\u001b[0m\u001b[1;34m'predictions'\u001b[0m\u001b[1;33m]\u001b[0m\u001b[1;33m)\u001b[0m\u001b[1;33m)\u001b[0m\u001b[1;33m\u001b[0m\u001b[1;33m\u001b[0m\u001b[0m\n\u001b[0m",
      "\u001b[1;32m~\\Anaconda3\\envs\\tf1x\\lib\\site-packages\\sklearn\\preprocessing\\_data.py\u001b[0m in \u001b[0;36minverse_transform\u001b[1;34m(self, X, copy)\u001b[0m\n\u001b[0;32m   1020\u001b[0m             \u001b[0mestimator\u001b[0m\u001b[1;33m=\u001b[0m\u001b[0mself\u001b[0m\u001b[1;33m,\u001b[0m\u001b[1;33m\u001b[0m\u001b[1;33m\u001b[0m\u001b[0m\n\u001b[0;32m   1021\u001b[0m             \u001b[0mdtype\u001b[0m\u001b[1;33m=\u001b[0m\u001b[0mFLOAT_DTYPES\u001b[0m\u001b[1;33m,\u001b[0m\u001b[1;33m\u001b[0m\u001b[1;33m\u001b[0m\u001b[0m\n\u001b[1;32m-> 1022\u001b[1;33m             \u001b[0mforce_all_finite\u001b[0m\u001b[1;33m=\u001b[0m\u001b[1;34m\"allow-nan\"\u001b[0m\u001b[1;33m,\u001b[0m\u001b[1;33m\u001b[0m\u001b[1;33m\u001b[0m\u001b[0m\n\u001b[0m\u001b[0;32m   1023\u001b[0m         )\n\u001b[0;32m   1024\u001b[0m \u001b[1;33m\u001b[0m\u001b[0m\n",
      "\u001b[1;32m~\\Anaconda3\\envs\\tf1x\\lib\\site-packages\\sklearn\\utils\\validation.py\u001b[0m in \u001b[0;36mcheck_array\u001b[1;34m(array, accept_sparse, accept_large_sparse, dtype, order, copy, force_all_finite, ensure_2d, allow_nd, ensure_min_samples, ensure_min_features, estimator)\u001b[0m\n\u001b[0;32m    763\u001b[0m                     \u001b[1;34m\"Reshape your data either using array.reshape(-1, 1) if \"\u001b[0m\u001b[1;33m\u001b[0m\u001b[1;33m\u001b[0m\u001b[0m\n\u001b[0;32m    764\u001b[0m                     \u001b[1;34m\"your data has a single feature or array.reshape(1, -1) \"\u001b[0m\u001b[1;33m\u001b[0m\u001b[1;33m\u001b[0m\u001b[0m\n\u001b[1;32m--> 765\u001b[1;33m                     \u001b[1;34m\"if it contains a single sample.\"\u001b[0m\u001b[1;33m.\u001b[0m\u001b[0mformat\u001b[0m\u001b[1;33m(\u001b[0m\u001b[0marray\u001b[0m\u001b[1;33m)\u001b[0m\u001b[1;33m\u001b[0m\u001b[1;33m\u001b[0m\u001b[0m\n\u001b[0m\u001b[0;32m    766\u001b[0m                 )\n\u001b[0;32m    767\u001b[0m \u001b[1;33m\u001b[0m\u001b[0m\n",
      "\u001b[1;31mValueError\u001b[0m: Expected 2D array, got 1D array instead:\narray=[-0.9644322].\nReshape your data either using array.reshape(-1, 1) if your data has a single feature or array.reshape(1, -1) if it contains a single sample."
     ]
    }
   ],
   "source": [
    "for p in regressor.predict(input_fn = funcao_previsao):\n",
    "    #print(p['predictions'])\n",
    "    print(scaler_y.inverse_transform(p['predictions']))"
   ]
  }
 ],
 "metadata": {
  "kernelspec": {
   "display_name": "Python 3 (ipykernel)",
   "language": "python",
   "name": "python3"
  },
  "language_info": {
   "codemirror_mode": {
    "name": "ipython",
    "version": 3
   },
   "file_extension": ".py",
   "mimetype": "text/x-python",
   "name": "python",
   "nbconvert_exporter": "python",
   "pygments_lexer": "ipython3",
   "version": "3.7.11"
  }
 },
 "nbformat": 4,
 "nbformat_minor": 2
}
