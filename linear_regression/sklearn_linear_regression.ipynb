{
 "cells": [
  {
   "cell_type": "code",
   "execution_count": 1,
   "id": "57266973",
   "metadata": {},
   "outputs": [],
   "source": [
    "import numpy as np"
   ]
  },
  {
   "cell_type": "code",
   "execution_count": 2,
   "id": "6f68aa7f",
   "metadata": {},
   "outputs": [],
   "source": [
    "# ages array\n",
    "x = np.array([[18], [23], [28], [33], [38], [43], [48], [53], [58], [63]])"
   ]
  },
  {
   "cell_type": "code",
   "execution_count": 3,
   "id": "76dc0869",
   "metadata": {},
   "outputs": [
    {
     "data": {
      "text/plain": [
       "array([[18],\n",
       "       [23],\n",
       "       [28],\n",
       "       [33],\n",
       "       [38],\n",
       "       [43],\n",
       "       [48],\n",
       "       [53],\n",
       "       [58],\n",
       "       [63]])"
      ]
     },
     "execution_count": 3,
     "metadata": {},
     "output_type": "execute_result"
    }
   ],
   "source": [
    "x"
   ]
  },
  {
   "cell_type": "code",
   "execution_count": 4,
   "id": "b587f7e9",
   "metadata": {},
   "outputs": [],
   "source": [
    "# cost array\n",
    "y = np.array([[871], [1132], [1042], [1356], [1488], [1638], [1569], [1754], [1866], [1900]])"
   ]
  },
  {
   "cell_type": "code",
   "execution_count": 5,
   "id": "fcf0fd3d",
   "metadata": {},
   "outputs": [
    {
     "data": {
      "text/plain": [
       "array([[ 871],\n",
       "       [1132],\n",
       "       [1042],\n",
       "       [1356],\n",
       "       [1488],\n",
       "       [1638],\n",
       "       [1569],\n",
       "       [1754],\n",
       "       [1866],\n",
       "       [1900]])"
      ]
     },
     "execution_count": 5,
     "metadata": {},
     "output_type": "execute_result"
    }
   ],
   "source": [
    "y"
   ]
  },
  {
   "cell_type": "code",
   "execution_count": 6,
   "id": "9aec58a8",
   "metadata": {},
   "outputs": [
    {
     "data": {
      "text/plain": [
       "<matplotlib.collections.PathCollection at 0x295ef836188>"
      ]
     },
     "execution_count": 6,
     "metadata": {},
     "output_type": "execute_result"
    },
    {
     "data": {
      "image/png": "[encoded data removed]",
      "text/plain": [
       "<Figure size 432x288 with 1 Axes>"
      ]
     },
     "metadata": {
      "needs_background": "light"
     },
     "output_type": "display_data"
    }
   ],
   "source": [
    "import matplotlib.pyplot as plt\n",
    "%matplotlib inline\n",
    "plt.scatter(x, y)"
   ]
  },
  {
   "cell_type": "markdown",
   "id": "f01470ed",
   "metadata": {},
   "source": [
    "SKLEARN LINEAR REGRESSION :"
   ]
  },
  {
   "cell_type": "code",
   "execution_count": 7,
   "id": "97d20a46",
   "metadata": {},
   "outputs": [],
   "source": [
    "from sklearn.linear_model import LinearRegression"
   ]
  },
  {
   "cell_type": "code",
   "execution_count": 8,
   "id": "ce6e55e5",
   "metadata": {},
   "outputs": [
    {
     "data": {
      "text/plain": [
       "LinearRegression()"
      ]
     },
     "execution_count": 8,
     "metadata": {},
     "output_type": "execute_result"
    }
   ],
   "source": [
    "regressor = LinearRegression()\n",
    "regressor.fit(x,y)"
   ]
  },
  {
   "cell_type": "markdown",
   "id": "c576975e",
   "metadata": {},
   "source": [
    "Regression function: y = b0 + b1 + x1"
   ]
  },
  {
   "cell_type": "code",
   "execution_count": 9,
   "id": "8d7eeced",
   "metadata": {},
   "outputs": [
    {
     "data": {
      "text/plain": [
       "array([541.24363636])"
      ]
     },
     "execution_count": 9,
     "metadata": {},
     "output_type": "execute_result"
    }
   ],
   "source": [
    "# b0\n",
    "regressor.intercept_"
   ]
  },
  {
   "cell_type": "code",
   "execution_count": 10,
   "id": "590331bf",
   "metadata": {},
   "outputs": [
    {
     "data": {
      "text/plain": [
       "array([[22.72484848]])"
      ]
     },
     "execution_count": 10,
     "metadata": {},
     "output_type": "execute_result"
    }
   ],
   "source": [
    "# b1\n",
    "regressor.coef_"
   ]
  },
  {
   "cell_type": "code",
   "execution_count": 11,
   "id": "f29da155",
   "metadata": {},
   "outputs": [],
   "source": [
    "# y = b0 + b1 + x1\n",
    "preview1 = regressor.intercept_ + regressor.coef_ * 40"
   ]
  },
  {
   "cell_type": "code",
   "execution_count": 12,
   "id": "d641729a",
   "metadata": {},
   "outputs": [
    {
     "name": "stdout",
     "output_type": "stream",
     "text": [
      "Previewed value for 40 years old: 1450.2375757575755\n"
     ]
    }
   ],
   "source": [
    "print('Previewed value for 40 years old:', preview1[0][0])"
   ]
  },
  {
   "cell_type": "code",
   "execution_count": 13,
   "id": "43d9235d",
   "metadata": {},
   "outputs": [
    {
     "name": "stdout",
     "output_type": "stream",
     "text": [
      "Previewed value for 40 years old: 1450.2375757575755\n"
     ]
    }
   ],
   "source": [
    "# another way to put:\n",
    "preview2 = regressor.predict([[40]])\n",
    "print('Previewed value for 40 years old:', preview2[0][0])"
   ]
  },
  {
   "cell_type": "code",
   "execution_count": 17,
   "id": "02c6e90c",
   "metadata": {},
   "outputs": [
    {
     "data": {
      "text/plain": [
       "array([[ 950.29090909],\n",
       "       [1063.91515152],\n",
       "       [1177.53939394],\n",
       "       [1291.16363636],\n",
       "       [1404.78787879],\n",
       "       [1518.41212121],\n",
       "       [1632.03636364],\n",
       "       [1745.66060606],\n",
       "       [1859.28484848],\n",
       "       [1972.90909091]])"
      ]
     },
     "execution_count": 17,
     "metadata": {},
     "output_type": "execute_result"
    }
   ],
   "source": [
    "# previews for all input values (ages)\n",
    "previews = regressor.predict(x)\n",
    "previews"
   ]
  },
  {
   "cell_type": "code",
   "execution_count": 19,
   "id": "de51d467",
   "metadata": {},
   "outputs": [
    {
     "data": {
      "text/plain": [
       "array([[ 79.29090909],\n",
       "       [ 68.08484848],\n",
       "       [135.53939394],\n",
       "       [ 64.83636364],\n",
       "       [ 83.21212121],\n",
       "       [119.58787879],\n",
       "       [ 63.03636364],\n",
       "       [  8.33939394],\n",
       "       [  6.71515152],\n",
       "       [ 72.90909091]])"
      ]
     },
     "execution_count": 19,
     "metadata": {},
     "output_type": "execute_result"
    }
   ],
   "source": [
    "# difference between real values (costs)\n",
    "results = abs(y - previews)\n",
    "results"
   ]
  },
  {
   "cell_type": "code",
   "execution_count": 21,
   "id": "e95c300e",
   "metadata": {},
   "outputs": [
    {
     "data": {
      "text/plain": [
       "70.15515151515152"
      ]
     },
     "execution_count": 21,
     "metadata": {},
     "output_type": "execute_result"
    }
   ],
   "source": [
    "# mean error\n",
    "results.mean()"
   ]
  },
  {
   "cell_type": "code",
   "execution_count": 22,
   "id": "b273c79f",
   "metadata": {},
   "outputs": [],
   "source": [
    "from sklearn.metrics import mean_absolute_error, mean_squared_error"
   ]
  },
  {
   "cell_type": "code",
   "execution_count": 23,
   "id": "667145e4",
   "metadata": {},
   "outputs": [],
   "source": [
    "mae = mean_absolute_error(y, previews)\n",
    "mse = mean_squared_error(y, previews)"
   ]
  },
  {
   "cell_type": "code",
   "execution_count": 24,
   "id": "4070cc7a",
   "metadata": {},
   "outputs": [
    {
     "data": {
      "text/plain": [
       "70.15515151515152"
      ]
     },
     "execution_count": 24,
     "metadata": {},
     "output_type": "execute_result"
    }
   ],
   "source": [
    "mae"
   ]
  },
  {
   "cell_type": "code",
   "execution_count": 25,
   "id": "2275392b",
   "metadata": {},
   "outputs": [
    {
     "data": {
      "text/plain": [
       "6412.675151515151"
      ]
     },
     "execution_count": 25,
     "metadata": {},
     "output_type": "execute_result"
    }
   ],
   "source": [
    "mse"
   ]
  },
  {
   "cell_type": "code",
   "execution_count": 33,
   "id": "4db11e47",
   "metadata": {},
   "outputs": [
    {
     "data": {
      "text/plain": [
       "Text(0, 0.5, 'Cost')"
      ]
     },
     "execution_count": 33,
     "metadata": {},
     "output_type": "execute_result"
    },
    {
     "data": {
      "image/png": "[encoded data removed]",
      "text/plain": [
       "<Figure size 432x288 with 1 Axes>"
      ]
     },
     "metadata": {
      "needs_background": "light"
     },
     "output_type": "display_data"
    }
   ],
   "source": [
    "plt.plot(x, y, 'o')\n",
    "plt.plot(x, previews, color = 'red')\n",
    "plt.title('Simple Linear Regression')\n",
    "plt.xlabel('Age')\n",
    "plt.ylabel('Cost')"
   ]
  },
  {
   "cell_type": "code",
   "execution_count": null,
   "id": "1ba7d04d",
   "metadata": {},
   "outputs": [],
   "source": []
  }
 ],
 "metadata": {
  "kernelspec": {
   "display_name": "Python 3 (ipykernel)",
   "language": "python",
   "name": "python3"
  },
  "language_info": {
   "codemirror_mode": {
    "name": "ipython",
    "version": 3
   },
   "file_extension": ".py",
   "mimetype": "text/x-python",
   "name": "python",
   "nbconvert_exporter": "python",
   "pygments_lexer": "ipython3",
   "version": "3.7.11"
  }
 },
 "nbformat": 4,
 "nbformat_minor": 5
}
