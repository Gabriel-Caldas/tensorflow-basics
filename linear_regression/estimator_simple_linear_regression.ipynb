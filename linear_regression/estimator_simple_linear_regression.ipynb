{
 "cells": [
  {
   "cell_type": "markdown",
   "id": "cec104f7",
   "metadata": {},
   "source": [
    "<h1>HIGH LEVEL API - ESTIMATORS</h1>\n",
    "<h2>Simple Linear Regression</h2>"
   ]
  },
  {
   "cell_type": "code",
   "execution_count": 1,
   "id": "803c0e36",
   "metadata": {},
   "outputs": [
    {
     "data": {
      "text/html": [
       "<div>\n",
       "<style scoped>\n",
       "    .dataframe tbody tr th:only-of-type {\n",
       "        vertical-align: middle;\n",
       "    }\n",
       "\n",
       "    .dataframe tbody tr th {\n",
       "        vertical-align: top;\n",
       "    }\n",
       "\n",
       "    .dataframe thead th {\n",
       "        text-align: right;\n",
       "    }\n",
       "</style>\n",
       "<table border=\"1\" class=\"dataframe\">\n",
       "  <thead>\n",
       "    <tr style=\"text-align: right;\">\n",
       "      <th></th>\n",
       "      <th>id</th>\n",
       "      <th>date</th>\n",
       "      <th>price</th>\n",
       "      <th>bedrooms</th>\n",
       "      <th>bathrooms</th>\n",
       "      <th>sqft_living</th>\n",
       "      <th>sqft_lot</th>\n",
       "      <th>floors</th>\n",
       "      <th>waterfront</th>\n",
       "      <th>view</th>\n",
       "      <th>...</th>\n",
       "      <th>grade</th>\n",
       "      <th>sqft_above</th>\n",
       "      <th>sqft_basement</th>\n",
       "      <th>yr_built</th>\n",
       "      <th>yr_renovated</th>\n",
       "      <th>zipcode</th>\n",
       "      <th>lat</th>\n",
       "      <th>long</th>\n",
       "      <th>sqft_living15</th>\n",
       "      <th>sqft_lot15</th>\n",
       "    </tr>\n",
       "  </thead>\n",
       "  <tbody>\n",
       "    <tr>\n",
       "      <th>0</th>\n",
       "      <td>7129300520</td>\n",
       "      <td>20141013T000000</td>\n",
       "      <td>221900.0</td>\n",
       "      <td>3</td>\n",
       "      <td>1.00</td>\n",
       "      <td>1180</td>\n",
       "      <td>5650</td>\n",
       "      <td>1.0</td>\n",
       "      <td>0</td>\n",
       "      <td>0</td>\n",
       "      <td>...</td>\n",
       "      <td>7</td>\n",
       "      <td>1180</td>\n",
       "      <td>0</td>\n",
       "      <td>1955</td>\n",
       "      <td>0</td>\n",
       "      <td>98178</td>\n",
       "      <td>47.5112</td>\n",
       "      <td>-122.257</td>\n",
       "      <td>1340</td>\n",
       "      <td>5650</td>\n",
       "    </tr>\n",
       "    <tr>\n",
       "      <th>1</th>\n",
       "      <td>6414100192</td>\n",
       "      <td>20141209T000000</td>\n",
       "      <td>538000.0</td>\n",
       "      <td>3</td>\n",
       "      <td>2.25</td>\n",
       "      <td>2570</td>\n",
       "      <td>7242</td>\n",
       "      <td>2.0</td>\n",
       "      <td>0</td>\n",
       "      <td>0</td>\n",
       "      <td>...</td>\n",
       "      <td>7</td>\n",
       "      <td>2170</td>\n",
       "      <td>400</td>\n",
       "      <td>1951</td>\n",
       "      <td>1991</td>\n",
       "      <td>98125</td>\n",
       "      <td>47.7210</td>\n",
       "      <td>-122.319</td>\n",
       "      <td>1690</td>\n",
       "      <td>7639</td>\n",
       "    </tr>\n",
       "    <tr>\n",
       "      <th>2</th>\n",
       "      <td>5631500400</td>\n",
       "      <td>20150225T000000</td>\n",
       "      <td>180000.0</td>\n",
       "      <td>2</td>\n",
       "      <td>1.00</td>\n",
       "      <td>770</td>\n",
       "      <td>10000</td>\n",
       "      <td>1.0</td>\n",
       "      <td>0</td>\n",
       "      <td>0</td>\n",
       "      <td>...</td>\n",
       "      <td>6</td>\n",
       "      <td>770</td>\n",
       "      <td>0</td>\n",
       "      <td>1933</td>\n",
       "      <td>0</td>\n",
       "      <td>98028</td>\n",
       "      <td>47.7379</td>\n",
       "      <td>-122.233</td>\n",
       "      <td>2720</td>\n",
       "      <td>8062</td>\n",
       "    </tr>\n",
       "    <tr>\n",
       "      <th>3</th>\n",
       "      <td>2487200875</td>\n",
       "      <td>20141209T000000</td>\n",
       "      <td>604000.0</td>\n",
       "      <td>4</td>\n",
       "      <td>3.00</td>\n",
       "      <td>1960</td>\n",
       "      <td>5000</td>\n",
       "      <td>1.0</td>\n",
       "      <td>0</td>\n",
       "      <td>0</td>\n",
       "      <td>...</td>\n",
       "      <td>7</td>\n",
       "      <td>1050</td>\n",
       "      <td>910</td>\n",
       "      <td>1965</td>\n",
       "      <td>0</td>\n",
       "      <td>98136</td>\n",
       "      <td>47.5208</td>\n",
       "      <td>-122.393</td>\n",
       "      <td>1360</td>\n",
       "      <td>5000</td>\n",
       "    </tr>\n",
       "    <tr>\n",
       "      <th>4</th>\n",
       "      <td>1954400510</td>\n",
       "      <td>20150218T000000</td>\n",
       "      <td>510000.0</td>\n",
       "      <td>3</td>\n",
       "      <td>2.00</td>\n",
       "      <td>1680</td>\n",
       "      <td>8080</td>\n",
       "      <td>1.0</td>\n",
       "      <td>0</td>\n",
       "      <td>0</td>\n",
       "      <td>...</td>\n",
       "      <td>8</td>\n",
       "      <td>1680</td>\n",
       "      <td>0</td>\n",
       "      <td>1987</td>\n",
       "      <td>0</td>\n",
       "      <td>98074</td>\n",
       "      <td>47.6168</td>\n",
       "      <td>-122.045</td>\n",
       "      <td>1800</td>\n",
       "      <td>7503</td>\n",
       "    </tr>\n",
       "  </tbody>\n",
       "</table>\n",
       "<p>5 rows × 21 columns</p>\n",
       "</div>"
      ],
      "text/plain": [
       "           id             date     price  bedrooms  bathrooms  sqft_living  \\\n",
       "0  7129300520  20141013T000000  221900.0         3       1.00         1180   \n",
       "1  6414100192  20141209T000000  538000.0         3       2.25         2570   \n",
       "2  5631500400  20150225T000000  180000.0         2       1.00          770   \n",
       "3  2487200875  20141209T000000  604000.0         4       3.00         1960   \n",
       "4  1954400510  20150218T000000  510000.0         3       2.00         1680   \n",
       "\n",
       "   sqft_lot  floors  waterfront  view  ...  grade  sqft_above  sqft_basement  \\\n",
       "0      5650     1.0           0     0  ...      7        1180              0   \n",
       "1      7242     2.0           0     0  ...      7        2170            400   \n",
       "2     10000     1.0           0     0  ...      6         770              0   \n",
       "3      5000     1.0           0     0  ...      7        1050            910   \n",
       "4      8080     1.0           0     0  ...      8        1680              0   \n",
       "\n",
       "   yr_built  yr_renovated  zipcode      lat     long  sqft_living15  \\\n",
       "0      1955             0    98178  47.5112 -122.257           1340   \n",
       "1      1951          1991    98125  47.7210 -122.319           1690   \n",
       "2      1933             0    98028  47.7379 -122.233           2720   \n",
       "3      1965             0    98136  47.5208 -122.393           1360   \n",
       "4      1987             0    98074  47.6168 -122.045           1800   \n",
       "\n",
       "   sqft_lot15  \n",
       "0        5650  \n",
       "1        7639  \n",
       "2        8062  \n",
       "3        5000  \n",
       "4        7503  \n",
       "\n",
       "[5 rows x 21 columns]"
      ]
     },
     "execution_count": 1,
     "metadata": {},
     "output_type": "execute_result"
    }
   ],
   "source": [
    "import pandas as pd\n",
    "base = pd.read_csv('house_prices.csv')\n",
    "base.head()"
   ]
  },
  {
   "cell_type": "code",
   "execution_count": 2,
   "id": "a826846d",
   "metadata": {},
   "outputs": [
    {
     "data": {
      "text/plain": [
       "(21613, 21)"
      ]
     },
     "execution_count": 2,
     "metadata": {},
     "output_type": "execute_result"
    }
   ],
   "source": [
    "base.shape"
   ]
  },
  {
   "cell_type": "code",
   "execution_count": 3,
   "id": "ba038449",
   "metadata": {},
   "outputs": [],
   "source": [
    "x = base.iloc[:, 5:6].values # .values to make it numpy\n",
    "y = base.iloc[:, 2:3].values"
   ]
  },
  {
   "cell_type": "code",
   "execution_count": 4,
   "id": "b1398536",
   "metadata": {},
   "outputs": [
    {
     "data": {
      "text/plain": [
       "array([[1180],\n",
       "       [2570],\n",
       "       [ 770],\n",
       "       ...,\n",
       "       [1020],\n",
       "       [1600],\n",
       "       [1020]], dtype=int64)"
      ]
     },
     "execution_count": 4,
     "metadata": {},
     "output_type": "execute_result"
    }
   ],
   "source": [
    "x"
   ]
  },
  {
   "cell_type": "code",
   "execution_count": 5,
   "id": "068c5722",
   "metadata": {},
   "outputs": [
    {
     "data": {
      "text/plain": [
       "array([[221900.],\n",
       "       [538000.],\n",
       "       [180000.],\n",
       "       ...,\n",
       "       [402101.],\n",
       "       [400000.],\n",
       "       [325000.]])"
      ]
     },
     "execution_count": 5,
     "metadata": {},
     "output_type": "execute_result"
    }
   ],
   "source": [
    "y"
   ]
  },
  {
   "cell_type": "code",
   "execution_count": 6,
   "id": "11a37c69",
   "metadata": {},
   "outputs": [],
   "source": [
    "from sklearn.preprocessing import StandardScaler\n",
    "scaler_x = StandardScaler()\n",
    "x = scaler_x.fit_transform(x)\n",
    "scaler_y = StandardScaler()\n",
    "y = scaler_y.fit_transform(y)"
   ]
  },
  {
   "cell_type": "code",
   "execution_count": 7,
   "id": "e1425f44",
   "metadata": {},
   "outputs": [
    {
     "data": {
      "text/plain": [
       "array([[-0.97983502],\n",
       "       [ 0.53363434],\n",
       "       [-1.42625404],\n",
       "       ...,\n",
       "       [-1.15404732],\n",
       "       [-0.52252773],\n",
       "       [-1.15404732]])"
      ]
     },
     "execution_count": 7,
     "metadata": {},
     "output_type": "execute_result"
    }
   ],
   "source": [
    "x"
   ]
  },
  {
   "cell_type": "code",
   "execution_count": 8,
   "id": "f818871e",
   "metadata": {},
   "outputs": [
    {
     "data": {
      "text/plain": [
       "array([[-0.86671733],\n",
       "       [-0.00568792],\n",
       "       [-0.98084935],\n",
       "       ...,\n",
       "       [-0.37586519],\n",
       "       [-0.38158814],\n",
       "       [-0.58588173]])"
      ]
     },
     "execution_count": 8,
     "metadata": {},
     "output_type": "execute_result"
    }
   ],
   "source": [
    "y"
   ]
  },
  {
   "cell_type": "code",
   "execution_count": 9,
   "id": "7f1c56a2",
   "metadata": {},
   "outputs": [
    {
     "data": {
      "text/plain": [
       "'1.15.0'"
      ]
     },
     "execution_count": 9,
     "metadata": {},
     "output_type": "execute_result"
    }
   ],
   "source": [
    "import tensorflow as tf\n",
    "tf.__version__"
   ]
  },
  {
   "cell_type": "code",
   "execution_count": 10,
   "id": "28112230",
   "metadata": {},
   "outputs": [],
   "source": [
    "columns = [tf.feature_column.numeric_column('x')]"
   ]
  },
  {
   "cell_type": "code",
   "execution_count": 11,
   "id": "f6862178",
   "metadata": {},
   "outputs": [
    {
     "data": {
      "text/plain": [
       "[NumericColumn(key='x', shape=(1,), default_value=None, dtype=tf.float32, normalizer_fn=None)]"
      ]
     },
     "execution_count": 11,
     "metadata": {},
     "output_type": "execute_result"
    }
   ],
   "source": [
    "columns"
   ]
  },
  {
   "cell_type": "code",
   "execution_count": 12,
   "id": "d8f39a52",
   "metadata": {},
   "outputs": [
    {
     "name": "stdout",
     "output_type": "stream",
     "text": [
      "INFO:tensorflow:Using default config.\n",
      "WARNING:tensorflow:Using temporary folder as model directory: C:\\Users\\GABRIE~1.CAL\\AppData\\Local\\Temp\\tmprvh58o4d\n",
      "INFO:tensorflow:Using config: {'_model_dir': 'C:\\\\Users\\\\GABRIE~1.CAL\\\\AppData\\\\Local\\\\Temp\\\\tmprvh58o4d', '_tf_random_seed': None, '_save_summary_steps': 100, '_save_checkpoints_steps': None, '_save_checkpoints_secs': 600, '_session_config': allow_soft_placement: true\n",
      "graph_options {\n",
      "  rewrite_options {\n",
      "    meta_optimizer_iterations: ONE\n",
      "  }\n",
      "}\n",
      ", '_keep_checkpoint_max': 5, '_keep_checkpoint_every_n_hours': 10000, '_log_step_count_steps': 100, '_train_distribute': None, '_device_fn': None, '_protocol': None, '_eval_distribute': None, '_experimental_distribute': None, '_experimental_max_worker_delay_secs': None, '_session_creation_timeout_secs': 7200, '_service': None, '_cluster_spec': <tensorflow.python.training.server_lib.ClusterSpec object at 0x00000218399478C8>, '_task_type': 'worker', '_task_id': 0, '_global_id_in_cluster': 0, '_master': '', '_evaluation_master': '', '_is_chief': True, '_num_ps_replicas': 0, '_num_worker_replicas': 1}\n"
     ]
    }
   ],
   "source": [
    "regressor = tf.estimator.LinearRegressor(columns)"
   ]
  },
  {
   "cell_type": "code",
   "execution_count": 13,
   "id": "2983421c",
   "metadata": {},
   "outputs": [],
   "source": [
    "# train/test rate - 70/30\n",
    "from sklearn.model_selection import train_test_split\n",
    "x_train, x_test, y_train, y_test = train_test_split(x, y, test_size=0.3)"
   ]
  },
  {
   "cell_type": "code",
   "execution_count": 14,
   "id": "ba0a8f07",
   "metadata": {},
   "outputs": [
    {
     "name": "stdout",
     "output_type": "stream",
     "text": [
      "x_train: (15129, 1), x_test: (6484, 1)\n"
     ]
    }
   ],
   "source": [
    "print(f\"x_train: {x_train.shape}, x_test: {x_test.shape}\")"
   ]
  },
  {
   "cell_type": "code",
   "execution_count": 15,
   "id": "6554dca3",
   "metadata": {},
   "outputs": [
    {
     "name": "stdout",
     "output_type": "stream",
     "text": [
      "y_train: (15129, 1), y_test: (6484, 1)\n"
     ]
    }
   ],
   "source": [
    "print(f\"y_train: {y_train.shape}, y_test: {y_test.shape}\")"
   ]
  },
  {
   "cell_type": "code",
   "execution_count": 16,
   "id": "99a83405",
   "metadata": {},
   "outputs": [
    {
     "name": "stdout",
     "output_type": "stream",
     "text": [
      "WARNING:tensorflow:From C:\\Users\\GABRIE~1.CAL\\AppData\\Local\\Temp/ipykernel_1144/2015226115.py:2: The name tf.estimator.inputs is deprecated. Please use tf.compat.v1.estimator.inputs instead.\n",
      "\n",
      "WARNING:tensorflow:From C:\\Users\\GABRIE~1.CAL\\AppData\\Local\\Temp/ipykernel_1144/2015226115.py:2: The name tf.estimator.inputs.numpy_input_fn is deprecated. Please use tf.compat.v1.estimator.inputs.numpy_input_fn instead.\n",
      "\n"
     ]
    }
   ],
   "source": [
    "# set train func and inputs\n",
    "train_func = tf.estimator.inputs.numpy_input_fn({'x': x_train}, \n",
    "                                                y_train, \n",
    "                                                batch_size=32, \n",
    "                                                num_epochs=None, \n",
    "                                                shuffle=True)\n",
    "\n",
    "test_func = tf.estimator.inputs.numpy_input_fn({'x': x_test}, \n",
    "                                              y_test, \n",
    "                                              batch_size=32, \n",
    "                                              num_epochs=1000,\n",
    "                                              shuffle=False)"
   ]
  },
  {
   "cell_type": "code",
   "execution_count": 17,
   "id": "c0441491",
   "metadata": {},
   "outputs": [
    {
     "data": {
      "text/plain": [
       "function"
      ]
     },
     "execution_count": 17,
     "metadata": {},
     "output_type": "execute_result"
    }
   ],
   "source": [
    "type(train_func)"
   ]
  },
  {
   "cell_type": "code",
   "execution_count": 18,
   "id": "61b02fcf",
   "metadata": {},
   "outputs": [
    {
     "name": "stdout",
     "output_type": "stream",
     "text": [
      "WARNING:tensorflow:From C:\\Users\\gabriel.caldas\\Anaconda3\\envs\\tf1x\\lib\\site-packages\\tensorflow_core\\python\\training\\training_util.py:236: Variable.initialized_value (from tensorflow.python.ops.variables) is deprecated and will be removed in a future version.\n",
      "Instructions for updating:\n",
      "Use Variable.read_value. Variables in 2.X are initialized automatically both in eager and graph (inside tf.defun) contexts.\n",
      "WARNING:tensorflow:From C:\\Users\\gabriel.caldas\\Anaconda3\\envs\\tf1x\\lib\\site-packages\\tensorflow_estimator\\python\\estimator\\inputs\\queues\\feeding_queue_runner.py:62: QueueRunner.__init__ (from tensorflow.python.training.queue_runner_impl) is deprecated and will be removed in a future version.\n",
      "Instructions for updating:\n",
      "To construct input pipelines, use the `tf.data` module.\n",
      "WARNING:tensorflow:From C:\\Users\\gabriel.caldas\\Anaconda3\\envs\\tf1x\\lib\\site-packages\\tensorflow_estimator\\python\\estimator\\inputs\\queues\\feeding_functions.py:500: add_queue_runner (from tensorflow.python.training.queue_runner_impl) is deprecated and will be removed in a future version.\n",
      "Instructions for updating:\n",
      "To construct input pipelines, use the `tf.data` module.\n",
      "INFO:tensorflow:Calling model_fn.\n",
      "WARNING:tensorflow:From C:\\Users\\gabriel.caldas\\Anaconda3\\envs\\tf1x\\lib\\site-packages\\tensorflow_core\\python\\feature_column\\feature_column_v2.py:305: Layer.add_variable (from tensorflow.python.keras.engine.base_layer) is deprecated and will be removed in a future version.\n",
      "Instructions for updating:\n",
      "Please use `layer.add_weight` method instead.\n",
      "WARNING:tensorflow:From C:\\Users\\gabriel.caldas\\Anaconda3\\envs\\tf1x\\lib\\site-packages\\tensorflow_core\\python\\ops\\resource_variable_ops.py:1630: calling BaseResourceVariable.__init__ (from tensorflow.python.ops.resource_variable_ops) with constraint is deprecated and will be removed in a future version.\n",
      "Instructions for updating:\n",
      "If using Keras pass *_constraint arguments to layers.\n",
      "WARNING:tensorflow:From C:\\Users\\gabriel.caldas\\Anaconda3\\envs\\tf1x\\lib\\site-packages\\tensorflow_estimator\\python\\estimator\\canned\\linear.py:308: to_float (from tensorflow.python.ops.math_ops) is deprecated and will be removed in a future version.\n",
      "Instructions for updating:\n",
      "Use `tf.cast` instead.\n",
      "INFO:tensorflow:Done calling model_fn.\n",
      "INFO:tensorflow:Create CheckpointSaverHook.\n",
      "WARNING:tensorflow:From C:\\Users\\gabriel.caldas\\Anaconda3\\envs\\tf1x\\lib\\site-packages\\tensorflow_core\\python\\ops\\array_ops.py:1475: where (from tensorflow.python.ops.array_ops) is deprecated and will be removed in a future version.\n",
      "Instructions for updating:\n",
      "Use tf.where in 2.0, which has the same broadcast rule as np.where\n",
      "INFO:tensorflow:Graph was finalized.\n",
      "INFO:tensorflow:Running local_init_op.\n",
      "INFO:tensorflow:Done running local_init_op.\n",
      "WARNING:tensorflow:From C:\\Users\\gabriel.caldas\\Anaconda3\\envs\\tf1x\\lib\\site-packages\\tensorflow_core\\python\\training\\monitored_session.py:882: start_queue_runners (from tensorflow.python.training.queue_runner_impl) is deprecated and will be removed in a future version.\n",
      "Instructions for updating:\n",
      "To construct input pipelines, use the `tf.data` module.\n",
      "INFO:tensorflow:Saving checkpoints for 0 into C:\\Users\\GABRIE~1.CAL\\AppData\\Local\\Temp\\tmprvh58o4d\\model.ckpt.\n",
      "INFO:tensorflow:loss = 36.425785, step = 1\n",
      "INFO:tensorflow:global_step/sec: 1156.53\n",
      "INFO:tensorflow:loss = 4.265689, step = 101 (0.087 sec)\n",
      "INFO:tensorflow:global_step/sec: 1325.51\n",
      "INFO:tensorflow:loss = 9.073769, step = 201 (0.075 sec)\n",
      "INFO:tensorflow:global_step/sec: 1410.28\n",
      "INFO:tensorflow:loss = 21.103863, step = 301 (0.072 sec)\n",
      "INFO:tensorflow:global_step/sec: 1413.1\n",
      "INFO:tensorflow:loss = 9.834885, step = 401 (0.070 sec)\n",
      "INFO:tensorflow:global_step/sec: 1428.9\n",
      "INFO:tensorflow:loss = 6.6346464, step = 501 (0.070 sec)\n",
      "INFO:tensorflow:global_step/sec: 1364.56\n",
      "INFO:tensorflow:loss = 18.895247, step = 601 (0.073 sec)\n",
      "INFO:tensorflow:global_step/sec: 1402.86\n",
      "INFO:tensorflow:loss = 8.841669, step = 701 (0.071 sec)\n",
      "INFO:tensorflow:global_step/sec: 1428.55\n",
      "INFO:tensorflow:loss = 9.026973, step = 801 (0.070 sec)\n",
      "INFO:tensorflow:global_step/sec: 1350.53\n",
      "INFO:tensorflow:loss = 97.010315, step = 901 (0.075 sec)\n",
      "INFO:tensorflow:global_step/sec: 1237.88\n",
      "INFO:tensorflow:loss = 5.8889184, step = 1001 (0.080 sec)\n",
      "INFO:tensorflow:global_step/sec: 1301.73\n",
      "INFO:tensorflow:loss = 3.9215698, step = 1101 (0.078 sec)\n",
      "INFO:tensorflow:global_step/sec: 1330.33\n",
      "INFO:tensorflow:loss = 5.1383767, step = 1201 (0.074 sec)\n",
      "INFO:tensorflow:global_step/sec: 1451.94\n",
      "INFO:tensorflow:loss = 9.962057, step = 1301 (0.069 sec)\n",
      "INFO:tensorflow:global_step/sec: 1352.62\n",
      "INFO:tensorflow:loss = 13.123941, step = 1401 (0.075 sec)\n",
      "INFO:tensorflow:global_step/sec: 1337.17\n",
      "INFO:tensorflow:loss = 9.039509, step = 1501 (0.074 sec)\n",
      "INFO:tensorflow:global_step/sec: 1432.41\n",
      "INFO:tensorflow:loss = 7.186292, step = 1601 (0.070 sec)\n",
      "INFO:tensorflow:global_step/sec: 1365.29\n",
      "INFO:tensorflow:loss = 9.615443, step = 1701 (0.073 sec)\n",
      "INFO:tensorflow:global_step/sec: 1360.87\n",
      "INFO:tensorflow:loss = 16.087042, step = 1801 (0.073 sec)\n",
      "INFO:tensorflow:global_step/sec: 1348.84\n",
      "INFO:tensorflow:loss = 17.098145, step = 1901 (0.075 sec)\n",
      "INFO:tensorflow:global_step/sec: 1373.55\n",
      "INFO:tensorflow:loss = 18.311436, step = 2001 (0.072 sec)\n",
      "INFO:tensorflow:global_step/sec: 1412.18\n",
      "INFO:tensorflow:loss = 13.0326, step = 2101 (0.072 sec)\n",
      "INFO:tensorflow:global_step/sec: 1432.45\n",
      "INFO:tensorflow:loss = 43.127865, step = 2201 (0.069 sec)\n",
      "INFO:tensorflow:global_step/sec: 1354.02\n",
      "INFO:tensorflow:loss = 20.871033, step = 2301 (0.076 sec)\n",
      "INFO:tensorflow:global_step/sec: 1212.46\n",
      "INFO:tensorflow:loss = 29.686861, step = 2401 (0.080 sec)\n",
      "INFO:tensorflow:global_step/sec: 1165.3\n",
      "INFO:tensorflow:loss = 9.600624, step = 2501 (0.087 sec)\n",
      "INFO:tensorflow:global_step/sec: 1115.85\n",
      "INFO:tensorflow:loss = 8.279112, step = 2601 (0.089 sec)\n",
      "INFO:tensorflow:global_step/sec: 1203.16\n",
      "INFO:tensorflow:loss = 26.731623, step = 2701 (0.082 sec)\n",
      "INFO:tensorflow:global_step/sec: 1249.73\n",
      "INFO:tensorflow:loss = 14.039471, step = 2801 (0.080 sec)\n",
      "INFO:tensorflow:global_step/sec: 1189.07\n",
      "INFO:tensorflow:loss = 19.177025, step = 2901 (0.085 sec)\n",
      "INFO:tensorflow:global_step/sec: 1213.36\n",
      "INFO:tensorflow:loss = 17.101206, step = 3001 (0.082 sec)\n",
      "INFO:tensorflow:global_step/sec: 1152.88\n",
      "INFO:tensorflow:loss = 17.392958, step = 3101 (0.086 sec)\n",
      "INFO:tensorflow:global_step/sec: 1266.79\n",
      "INFO:tensorflow:loss = 7.014504, step = 3201 (0.079 sec)\n",
      "INFO:tensorflow:global_step/sec: 1319.93\n",
      "INFO:tensorflow:loss = 60.333572, step = 3301 (0.077 sec)\n",
      "INFO:tensorflow:global_step/sec: 1302.19\n",
      "INFO:tensorflow:loss = 5.024326, step = 3401 (0.077 sec)\n",
      "INFO:tensorflow:global_step/sec: 1285.48\n",
      "INFO:tensorflow:loss = 16.40477, step = 3501 (0.078 sec)\n",
      "INFO:tensorflow:global_step/sec: 1285.48\n",
      "INFO:tensorflow:loss = 8.596617, step = 3601 (0.078 sec)\n",
      "INFO:tensorflow:global_step/sec: 1285.45\n",
      "INFO:tensorflow:loss = 6.451237, step = 3701 (0.077 sec)\n",
      "INFO:tensorflow:global_step/sec: 1313.05\n",
      "INFO:tensorflow:loss = 8.726154, step = 3801 (0.077 sec)\n",
      "INFO:tensorflow:global_step/sec: 1285.47\n",
      "INFO:tensorflow:loss = 26.036297, step = 3901 (0.078 sec)\n",
      "INFO:tensorflow:global_step/sec: 1354.98\n",
      "INFO:tensorflow:loss = 25.470669, step = 4001 (0.073 sec)\n",
      "INFO:tensorflow:global_step/sec: 1432.99\n",
      "INFO:tensorflow:loss = 4.5290756, step = 4101 (0.069 sec)\n",
      "INFO:tensorflow:global_step/sec: 1417.35\n",
      "INFO:tensorflow:loss = 14.275883, step = 4201 (0.071 sec)\n",
      "INFO:tensorflow:global_step/sec: 1392.62\n",
      "INFO:tensorflow:loss = 8.295665, step = 4301 (0.073 sec)\n",
      "INFO:tensorflow:global_step/sec: 1412.22\n",
      "INFO:tensorflow:loss = 19.03588, step = 4401 (0.071 sec)\n",
      "INFO:tensorflow:global_step/sec: 1362.43\n",
      "INFO:tensorflow:loss = 12.746757, step = 4501 (0.073 sec)\n",
      "INFO:tensorflow:global_step/sec: 1249.41\n",
      "INFO:tensorflow:loss = 14.244869, step = 4601 (0.079 sec)\n",
      "INFO:tensorflow:global_step/sec: 1336.9\n",
      "INFO:tensorflow:loss = 20.870888, step = 4701 (0.075 sec)\n",
      "INFO:tensorflow:global_step/sec: 1237.86\n",
      "INFO:tensorflow:loss = 4.75965, step = 4801 (0.081 sec)\n",
      "INFO:tensorflow:global_step/sec: 1280.64\n",
      "INFO:tensorflow:loss = 8.3103695, step = 4901 (0.078 sec)\n",
      "INFO:tensorflow:global_step/sec: 1278.36\n",
      "INFO:tensorflow:loss = 25.156515, step = 5001 (0.079 sec)\n",
      "INFO:tensorflow:global_step/sec: 1286.62\n"
     ]
    },
    {
     "name": "stdout",
     "output_type": "stream",
     "text": [
      "INFO:tensorflow:loss = 28.918453, step = 5101 (0.077 sec)\n",
      "INFO:tensorflow:global_step/sec: 1170.33\n",
      "INFO:tensorflow:loss = 8.835495, step = 5201 (0.086 sec)\n",
      "INFO:tensorflow:global_step/sec: 1262.79\n",
      "INFO:tensorflow:loss = 7.440279, step = 5301 (0.080 sec)\n",
      "INFO:tensorflow:global_step/sec: 1392.07\n",
      "INFO:tensorflow:loss = 17.945538, step = 5401 (0.071 sec)\n",
      "INFO:tensorflow:global_step/sec: 1302.65\n",
      "INFO:tensorflow:loss = 16.55635, step = 5501 (0.077 sec)\n",
      "INFO:tensorflow:global_step/sec: 1285.46\n",
      "INFO:tensorflow:loss = 8.730186, step = 5601 (0.080 sec)\n",
      "INFO:tensorflow:global_step/sec: 1162.09\n",
      "INFO:tensorflow:loss = 8.565279, step = 5701 (0.084 sec)\n",
      "INFO:tensorflow:global_step/sec: 1341.06\n",
      "INFO:tensorflow:loss = 11.285416, step = 5801 (0.075 sec)\n",
      "INFO:tensorflow:global_step/sec: 1394.55\n",
      "INFO:tensorflow:loss = 9.656384, step = 5901 (0.072 sec)\n",
      "INFO:tensorflow:global_step/sec: 1404.96\n",
      "INFO:tensorflow:loss = 9.643255, step = 6001 (0.071 sec)\n",
      "INFO:tensorflow:global_step/sec: 1455.6\n",
      "INFO:tensorflow:loss = 26.02375, step = 6101 (0.070 sec)\n",
      "INFO:tensorflow:global_step/sec: 1393.1\n",
      "INFO:tensorflow:loss = 23.362198, step = 6201 (0.071 sec)\n",
      "INFO:tensorflow:global_step/sec: 1412.2\n",
      "INFO:tensorflow:loss = 32.669563, step = 6301 (0.072 sec)\n",
      "INFO:tensorflow:global_step/sec: 1496.52\n",
      "INFO:tensorflow:loss = 9.024521, step = 6401 (0.066 sec)\n",
      "INFO:tensorflow:global_step/sec: 1421.25\n",
      "INFO:tensorflow:loss = 11.724165, step = 6501 (0.070 sec)\n",
      "INFO:tensorflow:global_step/sec: 1453.17\n",
      "INFO:tensorflow:loss = 14.142149, step = 6601 (0.070 sec)\n",
      "INFO:tensorflow:global_step/sec: 1347.29\n",
      "INFO:tensorflow:loss = 8.167084, step = 6701 (0.073 sec)\n",
      "INFO:tensorflow:global_step/sec: 1376.43\n",
      "INFO:tensorflow:loss = 24.551458, step = 6801 (0.074 sec)\n",
      "INFO:tensorflow:global_step/sec: 1406.56\n",
      "INFO:tensorflow:loss = 7.4074235, step = 6901 (0.070 sec)\n",
      "INFO:tensorflow:global_step/sec: 1402.29\n",
      "INFO:tensorflow:loss = 10.138933, step = 7001 (0.071 sec)\n",
      "INFO:tensorflow:global_step/sec: 1396.24\n",
      "INFO:tensorflow:loss = 13.699774, step = 7101 (0.072 sec)\n",
      "INFO:tensorflow:global_step/sec: 1473.85\n",
      "INFO:tensorflow:loss = 14.44865, step = 7201 (0.068 sec)\n",
      "INFO:tensorflow:global_step/sec: 1499.92\n",
      "INFO:tensorflow:loss = 87.80698, step = 7301 (0.067 sec)\n",
      "INFO:tensorflow:global_step/sec: 1397.83\n",
      "INFO:tensorflow:loss = 23.343725, step = 7401 (0.072 sec)\n",
      "INFO:tensorflow:global_step/sec: 1427.6\n",
      "INFO:tensorflow:loss = 11.519894, step = 7501 (0.070 sec)\n",
      "INFO:tensorflow:global_step/sec: 1299.02\n",
      "INFO:tensorflow:loss = 8.623064, step = 7601 (0.078 sec)\n",
      "INFO:tensorflow:global_step/sec: 1354.91\n",
      "INFO:tensorflow:loss = 18.71645, step = 7701 (0.074 sec)\n",
      "INFO:tensorflow:global_step/sec: 1450.71\n",
      "INFO:tensorflow:loss = 29.840805, step = 7801 (0.068 sec)\n",
      "INFO:tensorflow:global_step/sec: 1410.74\n",
      "INFO:tensorflow:loss = 10.516712, step = 7901 (0.071 sec)\n",
      "INFO:tensorflow:global_step/sec: 1363.44\n",
      "INFO:tensorflow:loss = 10.2871475, step = 8001 (0.073 sec)\n",
      "INFO:tensorflow:global_step/sec: 1416.09\n",
      "INFO:tensorflow:loss = 9.657961, step = 8101 (0.072 sec)\n",
      "INFO:tensorflow:global_step/sec: 1373.54\n",
      "INFO:tensorflow:loss = 13.953276, step = 8201 (0.072 sec)\n",
      "INFO:tensorflow:global_step/sec: 1431.51\n",
      "INFO:tensorflow:loss = 6.3816805, step = 8301 (0.070 sec)\n",
      "INFO:tensorflow:global_step/sec: 1473.95\n",
      "INFO:tensorflow:loss = 11.445987, step = 8401 (0.068 sec)\n",
      "INFO:tensorflow:global_step/sec: 1412.77\n",
      "INFO:tensorflow:loss = 14.04141, step = 8501 (0.071 sec)\n",
      "INFO:tensorflow:global_step/sec: 1403.24\n",
      "INFO:tensorflow:loss = 45.054, step = 8601 (0.071 sec)\n",
      "INFO:tensorflow:global_step/sec: 1186.32\n",
      "INFO:tensorflow:loss = 7.1154985, step = 8701 (0.086 sec)\n",
      "INFO:tensorflow:global_step/sec: 1226.57\n",
      "INFO:tensorflow:loss = 15.721971, step = 8801 (0.080 sec)\n",
      "INFO:tensorflow:global_step/sec: 1345.23\n",
      "INFO:tensorflow:loss = 15.643168, step = 8901 (0.075 sec)\n",
      "INFO:tensorflow:global_step/sec: 1222.78\n",
      "INFO:tensorflow:loss = 10.374403, step = 9001 (0.082 sec)\n",
      "INFO:tensorflow:global_step/sec: 1373.51\n",
      "INFO:tensorflow:loss = 21.523464, step = 9101 (0.072 sec)\n",
      "INFO:tensorflow:global_step/sec: 1412.25\n",
      "INFO:tensorflow:loss = 8.46752, step = 9201 (0.071 sec)\n",
      "INFO:tensorflow:global_step/sec: 1468.86\n",
      "INFO:tensorflow:loss = 11.080935, step = 9301 (0.068 sec)\n",
      "INFO:tensorflow:global_step/sec: 1319.73\n",
      "INFO:tensorflow:loss = 13.093142, step = 9401 (0.076 sec)\n",
      "INFO:tensorflow:global_step/sec: 1372.98\n",
      "INFO:tensorflow:loss = 11.054783, step = 9501 (0.073 sec)\n",
      "INFO:tensorflow:global_step/sec: 1355.51\n",
      "INFO:tensorflow:loss = 8.085755, step = 9601 (0.074 sec)\n",
      "INFO:tensorflow:global_step/sec: 1061.66\n",
      "INFO:tensorflow:loss = 8.134224, step = 9701 (0.095 sec)\n",
      "INFO:tensorflow:global_step/sec: 1447.11\n",
      "INFO:tensorflow:loss = 4.5500917, step = 9801 (0.069 sec)\n",
      "INFO:tensorflow:global_step/sec: 1065.14\n",
      "INFO:tensorflow:loss = 7.6057997, step = 9901 (0.094 sec)\n",
      "INFO:tensorflow:Saving checkpoints for 10000 into C:\\Users\\GABRIE~1.CAL\\AppData\\Local\\Temp\\tmprvh58o4d\\model.ckpt.\n",
      "INFO:tensorflow:Loss for final step: 6.836856.\n"
     ]
    },
    {
     "data": {
      "text/plain": [
       "<tensorflow_estimator.python.estimator.canned.linear.LinearRegressor at 0x21839957888>"
      ]
     },
     "execution_count": 18,
     "metadata": {},
     "output_type": "execute_result"
    }
   ],
   "source": [
    "regressor.train(input_fn=train_func, steps=10000)"
   ]
  },
  {
   "cell_type": "code",
   "execution_count": 19,
   "id": "57401cef",
   "metadata": {},
   "outputs": [
    {
     "name": "stdout",
     "output_type": "stream",
     "text": [
      "INFO:tensorflow:Calling model_fn.\n",
      "INFO:tensorflow:Done calling model_fn.\n",
      "INFO:tensorflow:Starting evaluation at 2021-12-08T17:06:04Z\n",
      "INFO:tensorflow:Graph was finalized.\n",
      "INFO:tensorflow:Restoring parameters from C:\\Users\\GABRIE~1.CAL\\AppData\\Local\\Temp\\tmprvh58o4d\\model.ckpt-10000\n",
      "INFO:tensorflow:Running local_init_op.\n",
      "INFO:tensorflow:Done running local_init_op.\n",
      "INFO:tensorflow:Evaluation [1000/10000]\n",
      "INFO:tensorflow:Evaluation [2000/10000]\n",
      "INFO:tensorflow:Evaluation [3000/10000]\n",
      "INFO:tensorflow:Evaluation [4000/10000]\n",
      "INFO:tensorflow:Evaluation [5000/10000]\n",
      "INFO:tensorflow:Evaluation [6000/10000]\n",
      "INFO:tensorflow:Evaluation [7000/10000]\n",
      "INFO:tensorflow:Evaluation [8000/10000]\n",
      "INFO:tensorflow:Evaluation [9000/10000]\n",
      "INFO:tensorflow:Evaluation [10000/10000]\n",
      "INFO:tensorflow:Finished evaluation at 2021-12-08-17:06:09\n",
      "INFO:tensorflow:Saving dict for global step 10000: average_loss = 0.49300063, global_step = 10000, label/mean = -0.008719033, loss = 15.77602, prediction/mean = -0.0012872613\n",
      "INFO:tensorflow:Saving 'checkpoint_path' summary for global step 10000: C:\\Users\\GABRIE~1.CAL\\AppData\\Local\\Temp\\tmprvh58o4d\\model.ckpt-10000\n"
     ]
    }
   ],
   "source": [
    "# evaluate train metrics\n",
    "train_metrics = regressor.evaluate(input_fn=train_func, steps=10000)"
   ]
  },
  {
   "cell_type": "code",
   "execution_count": 20,
   "id": "6212cd2b",
   "metadata": {},
   "outputs": [
    {
     "name": "stdout",
     "output_type": "stream",
     "text": [
      "INFO:tensorflow:Calling model_fn.\n",
      "INFO:tensorflow:Done calling model_fn.\n",
      "INFO:tensorflow:Starting evaluation at 2021-12-08T17:06:09Z\n",
      "INFO:tensorflow:Graph was finalized.\n",
      "INFO:tensorflow:Restoring parameters from C:\\Users\\GABRIE~1.CAL\\AppData\\Local\\Temp\\tmprvh58o4d\\model.ckpt-10000\n",
      "INFO:tensorflow:Running local_init_op.\n",
      "INFO:tensorflow:Done running local_init_op.\n",
      "INFO:tensorflow:Evaluation [1000/10000]\n",
      "INFO:tensorflow:Evaluation [2000/10000]\n",
      "INFO:tensorflow:Evaluation [3000/10000]\n",
      "INFO:tensorflow:Evaluation [4000/10000]\n",
      "INFO:tensorflow:Evaluation [5000/10000]\n",
      "INFO:tensorflow:Evaluation [6000/10000]\n",
      "INFO:tensorflow:Evaluation [7000/10000]\n",
      "INFO:tensorflow:Evaluation [8000/10000]\n",
      "INFO:tensorflow:Evaluation [9000/10000]\n",
      "INFO:tensorflow:Evaluation [10000/10000]\n",
      "INFO:tensorflow:Finished evaluation at 2021-12-08-17:06:15\n",
      "INFO:tensorflow:Saving dict for global step 10000: average_loss = 0.5408701, global_step = 10000, label/mean = 0.02058878, loss = 17.307842, prediction/mean = 0.015146463\n",
      "INFO:tensorflow:Saving 'checkpoint_path' summary for global step 10000: C:\\Users\\GABRIE~1.CAL\\AppData\\Local\\Temp\\tmprvh58o4d\\model.ckpt-10000\n"
     ]
    }
   ],
   "source": [
    "# test database evaluation\n",
    "test_metrics = regressor.evaluate(input_fn=test_func, steps=10000)"
   ]
  },
  {
   "cell_type": "code",
   "execution_count": 21,
   "id": "7f060a50",
   "metadata": {},
   "outputs": [
    {
     "data": {
      "text/plain": [
       "{'average_loss': 0.49300063,\n",
       " 'label/mean': -0.008719033,\n",
       " 'loss': 15.77602,\n",
       " 'prediction/mean': -0.0012872613,\n",
       " 'global_step': 10000}"
      ]
     },
     "execution_count": 21,
     "metadata": {},
     "output_type": "execute_result"
    }
   ],
   "source": [
    "train_metrics"
   ]
  },
  {
   "cell_type": "code",
   "execution_count": 22,
   "id": "7791d4f2",
   "metadata": {},
   "outputs": [
    {
     "data": {
      "text/plain": [
       "{'average_loss': 0.5408701,\n",
       " 'label/mean': 0.02058878,\n",
       " 'loss': 17.307842,\n",
       " 'prediction/mean': 0.015146463,\n",
       " 'global_step': 10000}"
      ]
     },
     "execution_count": 22,
     "metadata": {},
     "output_type": "execute_result"
    }
   ],
   "source": [
    "test_metrics"
   ]
  },
  {
   "cell_type": "markdown",
   "id": "41f4725d",
   "metadata": {},
   "source": [
    "<h1>Make new predictions using the  tested model:</h1>"
   ]
  },
  {
   "cell_type": "code",
   "execution_count": 23,
   "id": "00134fd9",
   "metadata": {},
   "outputs": [
    {
     "data": {
      "text/plain": [
       "array([[ 800],\n",
       "       [ 900],\n",
       "       [1000]])"
      ]
     },
     "execution_count": 23,
     "metadata": {},
     "output_type": "execute_result"
    }
   ],
   "source": [
    "import numpy as np\n",
    "new_houses = np.array([[800], [900], [1000]])\n",
    "new_houses"
   ]
  },
  {
   "cell_type": "code",
   "execution_count": 24,
   "id": "a0d9d95b",
   "metadata": {},
   "outputs": [],
   "source": [
    "# scaler\n",
    "new_houses = scaler_x.transform(new_houses)"
   ]
  },
  {
   "cell_type": "code",
   "execution_count": 25,
   "id": "a74cebb5",
   "metadata": {},
   "outputs": [
    {
     "data": {
      "text/plain": [
       "array([[-1.39358923],\n",
       "       [-1.28470655],\n",
       "       [-1.17582386]])"
      ]
     },
     "execution_count": 25,
     "metadata": {},
     "output_type": "execute_result"
    }
   ],
   "source": [
    "new_houses"
   ]
  },
  {
   "cell_type": "code",
   "execution_count": 26,
   "id": "afdb2efa",
   "metadata": {},
   "outputs": [],
   "source": [
    "predict_func = tf.estimator.inputs.numpy_input_fn({'x': new_houses}, shuffle=False)"
   ]
  },
  {
   "cell_type": "code",
   "execution_count": 27,
   "id": "77501175",
   "metadata": {},
   "outputs": [],
   "source": [
    "predicts = regressor.predict(input_fn=predict_func)"
   ]
  },
  {
   "cell_type": "code",
   "execution_count": 28,
   "id": "2fb4df29",
   "metadata": {},
   "outputs": [
    {
     "data": {
      "text/plain": [
       "<generator object Estimator.predict at 0x000002183B34B848>"
      ]
     },
     "execution_count": 28,
     "metadata": {},
     "output_type": "execute_result"
    }
   ],
   "source": [
    "predicts"
   ]
  },
  {
   "cell_type": "code",
   "execution_count": 29,
   "id": "bcf55162",
   "metadata": {},
   "outputs": [
    {
     "name": "stdout",
     "output_type": "stream",
     "text": [
      "INFO:tensorflow:Calling model_fn.\n",
      "INFO:tensorflow:Done calling model_fn.\n",
      "INFO:tensorflow:Graph was finalized.\n",
      "INFO:tensorflow:Restoring parameters from C:\\Users\\GABRIE~1.CAL\\AppData\\Local\\Temp\\tmprvh58o4d\\model.ckpt-10000\n",
      "INFO:tensorflow:Running local_init_op.\n",
      "INFO:tensorflow:Done running local_init_op.\n"
     ]
    },
    {
     "data": {
      "text/plain": [
       "[{'predictions': array([-0.95859766], dtype=float32)},\n",
       " {'predictions': array([-0.8834211], dtype=float32)},\n",
       " {'predictions': array([-0.80824447], dtype=float32)}]"
      ]
     },
     "execution_count": 29,
     "metadata": {},
     "output_type": "execute_result"
    }
   ],
   "source": [
    "list(predicts)"
   ]
  },
  {
   "cell_type": "code",
   "execution_count": 35,
   "id": "f211512d",
   "metadata": {},
   "outputs": [
    {
     "name": "stdout",
     "output_type": "stream",
     "text": [
      "INFO:tensorflow:Calling model_fn.\n",
      "INFO:tensorflow:Done calling model_fn.\n",
      "INFO:tensorflow:Graph was finalized.\n",
      "INFO:tensorflow:Restoring parameters from C:\\Users\\GABRIE~1.CAL\\AppData\\Local\\Temp\\tmprvh58o4d\\model.ckpt-10000\n",
      "INFO:tensorflow:Running local_init_op.\n",
      "INFO:tensorflow:Done running local_init_op.\n",
      "[[188169.01193088]]\n",
      "[[215767.72471753]]\n",
      "[[243366.48126814]]\n"
     ]
    }
   ],
   "source": [
    "for p in regressor.predict(input_fn=predict_func):\n",
    "    # print(p['predictions'])\n",
    "    print(scaler_y.inverse_transform([p['predictions']]))"
   ]
  },
  {
   "cell_type": "code",
   "execution_count": null,
   "id": "b638aec2",
   "metadata": {},
   "outputs": [],
   "source": []
  }
 ],
 "metadata": {
  "kernelspec": {
   "display_name": "Python 3 (ipykernel)",
   "language": "python",
   "name": "python3"
  },
  "language_info": {
   "codemirror_mode": {
    "name": "ipython",
    "version": 3
   },
   "file_extension": ".py",
   "mimetype": "text/x-python",
   "name": "python",
   "nbconvert_exporter": "python",
   "pygments_lexer": "ipython3",
   "version": "3.7.11"
  }
 },
 "nbformat": 4,
 "nbformat_minor": 5
}
