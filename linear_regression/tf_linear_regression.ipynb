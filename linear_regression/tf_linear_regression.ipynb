{
 "cells": [
  {
   "cell_type": "code",
   "execution_count": 1,
   "id": "cfb1e6bc",
   "metadata": {},
   "outputs": [],
   "source": [
    "import numpy as np\n",
    "# ages array\n",
    "x = np.array([[18], [23], [28], [33], [38], [43], [48], [53], [58], [63]])\n",
    "# cost array\n",
    "y = np.array([[871], [1132], [1042], [1356], [1488], [1638], [1569], [1754], [1866], [1900]])"
   ]
  },
  {
   "cell_type": "code",
   "execution_count": 2,
   "id": "11482fe6",
   "metadata": {},
   "outputs": [
    {
     "data": {
      "text/plain": [
       "array([[18],\n",
       "       [23],\n",
       "       [28],\n",
       "       [33],\n",
       "       [38],\n",
       "       [43],\n",
       "       [48],\n",
       "       [53],\n",
       "       [58],\n",
       "       [63]])"
      ]
     },
     "execution_count": 2,
     "metadata": {},
     "output_type": "execute_result"
    }
   ],
   "source": [
    "x"
   ]
  },
  {
   "cell_type": "code",
   "execution_count": 3,
   "id": "607b0ee0",
   "metadata": {},
   "outputs": [
    {
     "data": {
      "text/plain": [
       "array([[ 871],\n",
       "       [1132],\n",
       "       [1042],\n",
       "       [1356],\n",
       "       [1488],\n",
       "       [1638],\n",
       "       [1569],\n",
       "       [1754],\n",
       "       [1866],\n",
       "       [1900]])"
      ]
     },
     "execution_count": 3,
     "metadata": {},
     "output_type": "execute_result"
    }
   ],
   "source": [
    "y"
   ]
  },
  {
   "cell_type": "code",
   "execution_count": 4,
   "id": "a4107677",
   "metadata": {},
   "outputs": [],
   "source": [
    "# scaling\n",
    "from sklearn.preprocessing import StandardScaler\n",
    "scaler_x = StandardScaler()\n",
    "x = scaler_x.fit_transform(x)"
   ]
  },
  {
   "cell_type": "code",
   "execution_count": 5,
   "id": "f0d0bb5f",
   "metadata": {},
   "outputs": [
    {
     "data": {
      "text/plain": [
       "array([[-1.5666989 ],\n",
       "       [-1.21854359],\n",
       "       [-0.87038828],\n",
       "       [-0.52223297],\n",
       "       [-0.17407766],\n",
       "       [ 0.17407766],\n",
       "       [ 0.52223297],\n",
       "       [ 0.87038828],\n",
       "       [ 1.21854359],\n",
       "       [ 1.5666989 ]])"
      ]
     },
     "execution_count": 5,
     "metadata": {},
     "output_type": "execute_result"
    }
   ],
   "source": [
    "x"
   ]
  },
  {
   "cell_type": "code",
   "execution_count": 6,
   "id": "123a0fe5",
   "metadata": {},
   "outputs": [],
   "source": [
    "scaler_y = StandardScaler()\n",
    "y = scaler_y.fit_transform(y)"
   ]
  },
  {
   "cell_type": "code",
   "execution_count": 7,
   "id": "d9c71071",
   "metadata": {},
   "outputs": [
    {
     "data": {
      "text/plain": [
       "array([[-1.75751985],\n",
       "       [-0.98083058],\n",
       "       [-1.24865447],\n",
       "       [-0.31424669],\n",
       "       [ 0.07856167],\n",
       "       [ 0.52493481],\n",
       "       [ 0.31960317],\n",
       "       [ 0.87013004],\n",
       "       [ 1.20342199],\n",
       "       [ 1.3045999 ]])"
      ]
     },
     "execution_count": 7,
     "metadata": {},
     "output_type": "execute_result"
    }
   ],
   "source": [
    "y"
   ]
  },
  {
   "cell_type": "code",
   "execution_count": 8,
   "id": "d25309b4",
   "metadata": {},
   "outputs": [],
   "source": [
    "import matplotlib.pyplot as plt\n",
    "%matplotlib inline"
   ]
  },
  {
   "cell_type": "code",
   "execution_count": 9,
   "id": "60f898bc",
   "metadata": {},
   "outputs": [
    {
     "data": {
      "text/plain": [
       "<matplotlib.collections.PathCollection at 0x1ef9ad36788>"
      ]
     },
     "execution_count": 9,
     "metadata": {},
     "output_type": "execute_result"
    },
    {
     "data": {
      "image/png": "[encoded data removed]",
      "text/plain": [
       "<Figure size 432x288 with 1 Axes>"
      ]
     },
     "metadata": {
      "needs_background": "light"
     },
     "output_type": "display_data"
    }
   ],
   "source": [
    "plt.scatter(x, y)"
   ]
  },
  {
   "cell_type": "markdown",
   "id": "048f52bf",
   "metadata": {},
   "source": [
    "<h1>simple linear regression function:</h1>\n",
    "y = b0 + b1 * x\n"
   ]
  },
  {
   "cell_type": "code",
   "execution_count": 10,
   "id": "65978b81",
   "metadata": {},
   "outputs": [
    {
     "data": {
      "text/plain": [
       "array([0.5488135 , 0.71518937])"
      ]
     },
     "execution_count": 10,
     "metadata": {},
     "output_type": "execute_result"
    }
   ],
   "source": [
    "# find final results by numerical calculus\n",
    "# number initialization\n",
    "np.random.seed(0)\n",
    "np.random.rand(2)"
   ]
  },
  {
   "cell_type": "code",
   "execution_count": 11,
   "id": "34f8d5e4",
   "metadata": {},
   "outputs": [],
   "source": [
    "import tensorflow as tf"
   ]
  },
  {
   "cell_type": "code",
   "execution_count": 12,
   "id": "a61d5474",
   "metadata": {},
   "outputs": [],
   "source": [
    "b0 = tf.Variable(0.54)\n",
    "b1 = tf.Variable(0.71)"
   ]
  },
  {
   "cell_type": "code",
   "execution_count": 13,
   "id": "965f0a7c",
   "metadata": {},
   "outputs": [
    {
     "name": "stdout",
     "output_type": "stream",
     "text": [
      "WARNING:tensorflow:From C:\\Users\\GABRIE~1.CAL\\AppData\\Local\\Temp/ipykernel_9328/3588710295.py:2: The name tf.losses.mean_squared_error is deprecated. Please use tf.compat.v1.losses.mean_squared_error instead.\n",
      "\n",
      "WARNING:tensorflow:From C:\\Users\\gabriel.caldas\\Anaconda3\\envs\\tf1x\\lib\\site-packages\\tensorflow_core\\python\\ops\\losses\\losses_impl.py:121: where (from tensorflow.python.ops.array_ops) is deprecated and will be removed in a future version.\n",
      "Instructions for updating:\n",
      "Use tf.where in 2.0, which has the same broadcast rule as np.where\n",
      "WARNING:tensorflow:From C:\\Users\\GABRIE~1.CAL\\AppData\\Local\\Temp/ipykernel_9328/3588710295.py:4: The name tf.train.GradientDescentOptimizer is deprecated. Please use tf.compat.v1.train.GradientDescentOptimizer instead.\n",
      "\n",
      "WARNING:tensorflow:From C:\\Users\\GABRIE~1.CAL\\AppData\\Local\\Temp/ipykernel_9328/3588710295.py:7: The name tf.global_variables_initializer is deprecated. Please use tf.compat.v1.global_variables_initializer instead.\n",
      "\n"
     ]
    }
   ],
   "source": [
    "# get the loss considering the randomic initialized vars (b0, b1), \n",
    "erro = tf.losses.mean_squared_error(y, (b0 + b1 * x))\n",
    "# learn optmization rate\n",
    "otimizer = tf.train.GradientDescentOptimizer(learning_rate = 0.001)\n",
    "# training process, using the optimizer \n",
    "training = otimizer.minimize(erro)\n",
    "init = tf.global_variables_initializer()"
   ]
  },
  {
   "cell_type": "code",
   "execution_count": 14,
   "id": "32a4c37f",
   "metadata": {},
   "outputs": [
    {
     "name": "stdout",
     "output_type": "stream",
     "text": [
      "WARNING:tensorflow:From C:\\Users\\GABRIE~1.CAL\\AppData\\Local\\Temp/ipykernel_9328/3832832211.py:1: The name tf.Session is deprecated. Please use tf.compat.v1.Session instead.\n",
      "\n"
     ]
    }
   ],
   "source": [
    "with tf.Session() as sess:\n",
    "    sess.run(init)\n",
    "    # run the train 1000 times\n",
    "    for i in range(1000):\n",
    "        sess.run(training)\n",
    "    b0_final, b1_final = sess.run([b0,b1])"
   ]
  },
  {
   "cell_type": "code",
   "execution_count": 15,
   "id": "fdb023b4",
   "metadata": {},
   "outputs": [
    {
     "data": {
      "text/plain": [
       "0.07293496"
      ]
     },
     "execution_count": 15,
     "metadata": {},
     "output_type": "execute_result"
    }
   ],
   "source": [
    "b0_final"
   ]
  },
  {
   "cell_type": "code",
   "execution_count": 16,
   "id": "d49d0193",
   "metadata": {},
   "outputs": [
    {
     "data": {
      "text/plain": [
       "0.9359134"
      ]
     },
     "execution_count": 16,
     "metadata": {},
     "output_type": "execute_result"
    }
   ],
   "source": [
    "b1_final"
   ]
  },
  {
   "cell_type": "code",
   "execution_count": 17,
   "id": "2a20785c",
   "metadata": {},
   "outputs": [],
   "source": [
    "predictions = b0_final + b1_final * x"
   ]
  },
  {
   "cell_type": "code",
   "execution_count": 18,
   "id": "2377eced",
   "metadata": {},
   "outputs": [
    {
     "data": {
      "text/plain": [
       "array([[-1.39335951],\n",
       "       [-1.06751629],\n",
       "       [-0.74167308],\n",
       "       [-0.41582986],\n",
       "       [-0.08998665],\n",
       "       [ 0.23585657],\n",
       "       [ 0.56169979],\n",
       "       [ 0.887543  ],\n",
       "       [ 1.21338622],\n",
       "       [ 1.53922944]])"
      ]
     },
     "execution_count": 18,
     "metadata": {},
     "output_type": "execute_result"
    }
   ],
   "source": [
    "predictions"
   ]
  },
  {
   "cell_type": "code",
   "execution_count": 19,
   "id": "064b725f",
   "metadata": {},
   "outputs": [
    {
     "data": {
      "text/plain": [
       "numpy.ndarray"
      ]
     },
     "execution_count": 19,
     "metadata": {},
     "output_type": "execute_result"
    }
   ],
   "source": [
    "type(predictions)"
   ]
  },
  {
   "cell_type": "code",
   "execution_count": 20,
   "id": "ac5e3aa1",
   "metadata": {},
   "outputs": [
    {
     "data": {
      "text/plain": [
       "[<matplotlib.lines.Line2D at 0x1efa2a883c8>]"
      ]
     },
     "execution_count": 20,
     "metadata": {},
     "output_type": "execute_result"
    },
    {
     "data": {
      "image/png": "[encoded data removed]",
      "text/plain": [
       "<Figure size 432x288 with 1 Axes>"
      ]
     },
     "metadata": {
      "needs_background": "light"
     },
     "output_type": "display_data"
    }
   ],
   "source": [
    "# plot original values and predicts\n",
    "plt.plot(x, y, 'o')\n",
    "plt.plot(x, predictions, color='red')"
   ]
  },
  {
   "cell_type": "code",
   "execution_count": 24,
   "id": "c86a8e0f",
   "metadata": {},
   "outputs": [],
   "source": [
    "# put test age on same scale as x\n",
    "test_age = scaler_x.transform([[40]])"
   ]
  },
  {
   "cell_type": "code",
   "execution_count": 28,
   "id": "a8ff0d7e",
   "metadata": {},
   "outputs": [
    {
     "data": {
      "text/plain": [
       "array([[1475.15949902]])"
      ]
     },
     "execution_count": 28,
     "metadata": {},
     "output_type": "execute_result"
    }
   ],
   "source": [
    "# get prediction for test age(on same scale as y)\n",
    "predict1 = scaler_y.inverse_transform(b0_final + b1_final * test_age)\n",
    "predict1"
   ]
  },
  {
   "cell_type": "markdown",
   "id": "d32394a6",
   "metadata": {},
   "source": [
    "<h1>Calculating Errors:</h1>"
   ]
  },
  {
   "cell_type": "code",
   "execution_count": 31,
   "id": "a9247297",
   "metadata": {},
   "outputs": [
    {
     "data": {
      "text/plain": [
       "array([[ 871.],\n",
       "       [1132.],\n",
       "       [1042.],\n",
       "       [1356.],\n",
       "       [1488.],\n",
       "       [1638.],\n",
       "       [1569.],\n",
       "       [1754.],\n",
       "       [1866.],\n",
       "       [1900.]])"
      ]
     },
     "execution_count": 31,
     "metadata": {},
     "output_type": "execute_result"
    }
   ],
   "source": [
    "y1 = scaler_y.inverse_transform(y)\n",
    "y1"
   ]
  },
  {
   "cell_type": "code",
   "execution_count": 33,
   "id": "767ac9e0",
   "metadata": {},
   "outputs": [
    {
     "data": {
      "text/plain": [
       "array([[ 993.37306876],\n",
       "       [1102.86998473],\n",
       "       [1212.3669007 ],\n",
       "       [1321.86381666],\n",
       "       [1431.36073263],\n",
       "       [1540.8576486 ],\n",
       "       [1650.35456456],\n",
       "       [1759.85148053],\n",
       "       [1869.3483965 ],\n",
       "       [1978.84531246]])"
      ]
     },
     "execution_count": 33,
     "metadata": {},
     "output_type": "execute_result"
    }
   ],
   "source": [
    "predicts1 = scaler_y.inverse_transform(predictions)\n",
    "predicts1"
   ]
  },
  {
   "cell_type": "code",
   "execution_count": 34,
   "id": "76cae40f",
   "metadata": {},
   "outputs": [],
   "source": [
    "from sklearn.metrics import mean_absolute_error, mean_squared_error\n",
    "mae = mean_absolute_error(y1, predicts1)\n",
    "mse = mean_squared_error(y1, predicts1)"
   ]
  },
  {
   "cell_type": "code",
   "execution_count": 35,
   "id": "d2d5ed1e",
   "metadata": {},
   "outputs": [
    {
     "data": {
      "text/plain": [
       "67.9187540892004"
      ]
     },
     "execution_count": 35,
     "metadata": {},
     "output_type": "execute_result"
    }
   ],
   "source": [
    "mae"
   ]
  },
  {
   "cell_type": "code",
   "execution_count": 36,
   "id": "b71e9d40",
   "metadata": {},
   "outputs": [
    {
     "data": {
      "text/plain": [
       "7153.912871448908"
      ]
     },
     "execution_count": 36,
     "metadata": {},
     "output_type": "execute_result"
    }
   ],
   "source": [
    "mse"
   ]
  },
  {
   "cell_type": "code",
   "execution_count": null,
   "id": "33d65b61",
   "metadata": {},
   "outputs": [],
   "source": []
  }
 ],
 "metadata": {
  "kernelspec": {
   "display_name": "Python 3 (ipykernel)",
   "language": "python",
   "name": "python3"
  },
  "language_info": {
   "codemirror_mode": {
    "name": "ipython",
    "version": 3
   },
   "file_extension": ".py",
   "mimetype": "text/x-python",
   "name": "python",
   "nbconvert_exporter": "python",
   "pygments_lexer": "ipython3",
   "version": "3.7.11"
  }
 },
 "nbformat": 4,
 "nbformat_minor": 5
}
