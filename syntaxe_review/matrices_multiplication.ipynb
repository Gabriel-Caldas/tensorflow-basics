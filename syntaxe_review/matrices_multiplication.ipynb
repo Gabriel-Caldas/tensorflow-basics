{
 "cells": [
  {
   "cell_type": "code",
   "execution_count": 1,
   "id": "1483a8d1",
   "metadata": {},
   "outputs": [
    {
     "data": {
      "text/plain": [
       "'1.15.0'"
      ]
     },
     "execution_count": 1,
     "metadata": {},
     "output_type": "execute_result"
    }
   ],
   "source": [
    "import tensorflow as tf\n",
    "tf.__version__"
   ]
  },
  {
   "cell_type": "code",
   "execution_count": 4,
   "id": "3a874072",
   "metadata": {},
   "outputs": [],
   "source": [
    "m1 = tf.constant([[1, 2], [3, 4]])\n",
    "m2 = tf.constant([[-1, 3], [4, 2]])"
   ]
  },
  {
   "cell_type": "code",
   "execution_count": 5,
   "id": "c90f7c27",
   "metadata": {},
   "outputs": [],
   "source": [
    "# matmul (matrices multiplication) -> tf method to multiply matrices\n",
    "#matmul(m1, m2) != m1 * m2\n",
    "multiplication = tf.matmul(m1, m2)"
   ]
  },
  {
   "cell_type": "code",
   "execution_count": 6,
   "id": "6d70eaab",
   "metadata": {},
   "outputs": [
    {
     "name": "stdout",
     "output_type": "stream",
     "text": [
      "m1:\n",
      " [[1 2]\n",
      " [3 4]]\n",
      "m2:\n",
      " [[-1  3]\n",
      " [ 4  2]]\n",
      "matmul m1 m2:\n",
      " [[ 7  7]\n",
      " [13 17]]\n"
     ]
    }
   ],
   "source": [
    "with tf.Session() as sess:\n",
    "    print('m1:\\n',sess.run(m1))\n",
    "    print('m2:\\n',sess.run(m2))    \n",
    "    print('matmul m1 m2:\\n',sess.run(multiplication))    "
   ]
  },
  {
   "cell_type": "code",
   "execution_count": 7,
   "id": "c4b19352",
   "metadata": {},
   "outputs": [],
   "source": [
    "multiplication2 = tf.matmul(m2, m1)"
   ]
  },
  {
   "cell_type": "code",
   "execution_count": 10,
   "id": "122697f4",
   "metadata": {},
   "outputs": [
    {
     "name": "stdout",
     "output_type": "stream",
     "text": [
      "m1:\n",
      " [[1 2]\n",
      " [3 4]]\n",
      "m2:\n",
      " [[-1  3]\n",
      " [ 4  2]]\n",
      "matmul m2 m1:\n",
      " [[ 8 10]\n",
      " [10 16]]\n"
     ]
    }
   ],
   "source": [
    "with tf.Session() as sess:\n",
    "    print('m1:\\n',sess.run(m1))\n",
    "    print('m2:\\n',sess.run(m2))    \n",
    "    print('matmul m2 m1:\\n',sess.run(multiplication2))    "
   ]
  },
  {
   "cell_type": "code",
   "execution_count": 12,
   "id": "580b03f5",
   "metadata": {},
   "outputs": [],
   "source": [
    "m3 = tf.constant([[2, 3], [0, 1], [-1, 4]])\n",
    "m4 = tf.constant([[1, 2, 3], [-2, 0, 4]])\n",
    "multiplication3 = tf.matmul(m3, m4)"
   ]
  },
  {
   "cell_type": "code",
   "execution_count": 13,
   "id": "7120723d",
   "metadata": {},
   "outputs": [
    {
     "name": "stdout",
     "output_type": "stream",
     "text": [
      "m3:\n",
      " [[ 2  3]\n",
      " [ 0  1]\n",
      " [-1  4]]\n",
      "m4:\n",
      " [[ 1  2  3]\n",
      " [-2  0  4]]\n",
      "matmul m3 m4:\n",
      " [[-4  4 18]\n",
      " [-2  0  4]\n",
      " [-9 -2 13]]\n"
     ]
    }
   ],
   "source": [
    "with tf.Session() as sess:\n",
    "    print('m3:\\n',sess.run(m3))\n",
    "    print('m4:\\n',sess.run(m4))    \n",
    "    print('matmul m3 m4:\\n',sess.run(multiplication3))    "
   ]
  },
  {
   "cell_type": "code",
   "execution_count": null,
   "id": "b1f35c48",
   "metadata": {},
   "outputs": [],
   "source": []
  },
  {
   "cell_type": "code",
   "execution_count": null,
   "id": "45692371",
   "metadata": {},
   "outputs": [],
   "source": []
  }
 ],
 "metadata": {
  "kernelspec": {
   "display_name": "Python 3 (ipykernel)",
   "language": "python",
   "name": "python3"
  },
  "language_info": {
   "codemirror_mode": {
    "name": "ipython",
    "version": 3
   },
   "file_extension": ".py",
   "mimetype": "text/x-python",
   "name": "python",
   "nbconvert_exporter": "python",
   "pygments_lexer": "ipython3",
   "version": "3.7.11"
  }
 },
 "nbformat": 4,
 "nbformat_minor": 5
}
