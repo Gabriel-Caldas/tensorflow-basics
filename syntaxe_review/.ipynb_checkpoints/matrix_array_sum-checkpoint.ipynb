{
 "cells": [
  {
   "cell_type": "code",
   "execution_count": 1,
   "id": "f709e917",
   "metadata": {},
   "outputs": [
    {
     "data": {
      "text/plain": [
       "'1.15.0'"
      ]
     },
     "execution_count": 1,
     "metadata": {},
     "output_type": "execute_result"
    }
   ],
   "source": [
    "import tensorflow as tf\n",
    "tf.__version__"
   ]
  },
  {
   "cell_type": "code",
   "execution_count": 2,
   "id": "ab14ea0a",
   "metadata": {},
   "outputs": [],
   "source": [
    "# arrays\n",
    "a1 = tf.constant([9, 8,7,], name = 'a1')\n",
    "a2 = tf.constant([1, 2, 3], name = 'a2')"
   ]
  },
  {
   "cell_type": "code",
   "execution_count": 3,
   "id": "c3c2cf53",
   "metadata": {},
   "outputs": [],
   "source": [
    "sum1 = a1 + a2"
   ]
  },
  {
   "cell_type": "code",
   "execution_count": 4,
   "id": "f9852162",
   "metadata": {},
   "outputs": [
    {
     "data": {
      "text/plain": [
       "tensorflow.python.framework.ops.Tensor"
      ]
     },
     "execution_count": 4,
     "metadata": {},
     "output_type": "execute_result"
    }
   ],
   "source": [
    "type(a1)"
   ]
  },
  {
   "cell_type": "code",
   "execution_count": 5,
   "id": "77328a25",
   "metadata": {},
   "outputs": [
    {
     "name": "stdout",
     "output_type": "stream",
     "text": [
      "Tensor(\"a1:0\", shape=(3,), dtype=int32)\n"
     ]
    }
   ],
   "source": [
    "print(a1)"
   ]
  },
  {
   "cell_type": "code",
   "execution_count": 10,
   "id": "4002415d",
   "metadata": {},
   "outputs": [
    {
     "name": "stdout",
     "output_type": "stream",
     "text": [
      "tf array sum a1 + a2 = [10 10 10]\n"
     ]
    }
   ],
   "source": [
    "with tf.Session() as sess:\n",
    "    print('tf array sum a1 + a2 =', sess.run(sum1))"
   ]
  },
  {
   "cell_type": "code",
   "execution_count": 11,
   "id": "4eae0b56",
   "metadata": {},
   "outputs": [],
   "source": [
    "# matrices\n",
    "m1 = tf.constant([[1, 2, 3], [4, 5, 6]], name = 'm1')\n",
    "m2 = tf.constant([[1, 2, 3], [4, 5, 6]], name = 'm2')"
   ]
  },
  {
   "cell_type": "code",
   "execution_count": 12,
   "id": "ffe4e79c",
   "metadata": {},
   "outputs": [
    {
     "data": {
      "text/plain": [
       "tensorflow.python.framework.ops.Tensor"
      ]
     },
     "execution_count": 12,
     "metadata": {},
     "output_type": "execute_result"
    }
   ],
   "source": [
    "type(m1)"
   ]
  },
  {
   "cell_type": "code",
   "execution_count": 13,
   "id": "a5d98458",
   "metadata": {},
   "outputs": [
    {
     "name": "stdout",
     "output_type": "stream",
     "text": [
      "Tensor(\"m1:0\", shape=(2, 3), dtype=int32)\n"
     ]
    }
   ],
   "source": [
    "print(m1)"
   ]
  },
  {
   "cell_type": "code",
   "execution_count": 16,
   "id": "2ab5c93c",
   "metadata": {},
   "outputs": [
    {
     "data": {
      "text/plain": [
       "TensorShape([Dimension(2), Dimension(3)])"
      ]
     },
     "execution_count": 16,
     "metadata": {},
     "output_type": "execute_result"
    }
   ],
   "source": [
    "m1.shape"
   ]
  },
  {
   "cell_type": "code",
   "execution_count": 17,
   "id": "7cb70ff7",
   "metadata": {},
   "outputs": [],
   "source": [
    "# sum using tf resources\n",
    "sum2 = tf.add(m1, m2)"
   ]
  },
  {
   "cell_type": "code",
   "execution_count": 21,
   "id": "1f791380",
   "metadata": {},
   "outputs": [
    {
     "name": "stdout",
     "output_type": "stream",
     "text": [
      "m1:\n",
      " [[1 2 3]\n",
      " [4 5 6]]\n",
      "m2:\n",
      " [[1 2 3]\n",
      " [4 5 6]]\n",
      "tf matrices sum m1 + m2:\n",
      " [[ 2  4  6]\n",
      " [ 8 10 12]]\n"
     ]
    }
   ],
   "source": [
    "with tf.Session() as sess:\n",
    "    print('m1:\\n', sess.run(m1))\n",
    "    print('m2:\\n', sess.run(m2))\n",
    "    print('tf matrices sum m1 + m2:\\n', sess.run(sum2))"
   ]
  },
  {
   "cell_type": "code",
   "execution_count": 22,
   "id": "ebacc202",
   "metadata": {},
   "outputs": [],
   "source": [
    "m3 = tf.constant([[1, 2, 3], [4, 5, 6]])\n",
    "m4 = tf.constant([[1], [2]])\n",
    "sum3 = tf.add(m3, m4)"
   ]
  },
  {
   "cell_type": "code",
   "execution_count": 23,
   "id": "3fbce6fb",
   "metadata": {},
   "outputs": [
    {
     "name": "stdout",
     "output_type": "stream",
     "text": [
      "m3:\n",
      " [[1 2 3]\n",
      " [4 5 6]]\n",
      "m4:\n",
      " [[1]\n",
      " [2]]\n",
      "tf matrices sum m3 + m4:\n",
      " [[2 3 4]\n",
      " [6 7 8]]\n"
     ]
    }
   ],
   "source": [
    "with tf.Session() as sess:\n",
    "    print('m3:\\n', sess.run(m3))\n",
    "    print('m4:\\n', sess.run(m4))\n",
    "    print('tf matrices sum m3 + m4:\\n', sess.run(sum3))"
   ]
  }
 ],
 "metadata": {
  "kernelspec": {
   "display_name": "Python 3 (ipykernel)",
   "language": "python",
   "name": "python3"
  },
  "language_info": {
   "codemirror_mode": {
    "name": "ipython",
    "version": 3
   },
   "file_extension": ".py",
   "mimetype": "text/x-python",
   "name": "python",
   "nbconvert_exporter": "python",
   "pygments_lexer": "ipython3",
   "version": "3.7.11"
  }
 },
 "nbformat": 4,
 "nbformat_minor": 5
}
