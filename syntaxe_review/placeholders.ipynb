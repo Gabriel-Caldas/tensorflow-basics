{
 "cells": [
  {
   "cell_type": "code",
   "execution_count": 2,
   "id": "37de53b0",
   "metadata": {},
   "outputs": [],
   "source": [
    "import tensorflow as tf"
   ]
  },
  {
   "cell_type": "code",
   "execution_count": 3,
   "id": "3a1af87c",
   "metadata": {},
   "outputs": [],
   "source": [
    "# placeholders are variables that have no data and are not initialized\n",
    "# just hold the type of data that will be passed\n",
    "p = tf.placeholder('float', None) #type and size(None for \"any\")"
   ]
  },
  {
   "cell_type": "code",
   "execution_count": 5,
   "id": "8373a970",
   "metadata": {},
   "outputs": [],
   "source": [
    "operation = p + 2"
   ]
  },
  {
   "cell_type": "code",
   "execution_count": 7,
   "id": "05e9f2d5",
   "metadata": {},
   "outputs": [
    {
     "name": "stdout",
     "output_type": "stream",
     "text": [
      "[3. 4. 5.]\n"
     ]
    }
   ],
   "source": [
    "with tf.Session() as sess:\n",
    "    # sess.run(operation) #doesn't work because a value must feed the placeholder tensor\n",
    "    result = sess.run(operation, feed_dict={p: [1, 2, 3]})\n",
    "    print(result)"
   ]
  },
  {
   "cell_type": "code",
   "execution_count": 19,
   "id": "58736a90",
   "metadata": {},
   "outputs": [],
   "source": [
    "p2 = tf.placeholder('float', [None, 5])\n",
    "operation2 = p2 * 5"
   ]
  },
  {
   "cell_type": "code",
   "execution_count": 20,
   "id": "29121b24",
   "metadata": {},
   "outputs": [
    {
     "name": "stdout",
     "output_type": "stream",
     "text": [
      "[[ 5. 10. 15. 20. 25.]\n",
      " [30. 35. 40. 45. 50.]]\n"
     ]
    }
   ],
   "source": [
    "with tf.Session() as sess:\n",
    "    data = [[1, 2, 3, 4, 5], [6, 7, 8, 9, 10]]\n",
    "    result2 = sess.run(operation2, feed_dict={p2: data})\n",
    "    print(result2)"
   ]
  },
  {
   "cell_type": "code",
   "execution_count": null,
   "id": "94e990ad",
   "metadata": {},
   "outputs": [],
   "source": []
  }
 ],
 "metadata": {
  "kernelspec": {
   "display_name": "Python 3 (ipykernel)",
   "language": "python",
   "name": "python3"
  },
  "language_info": {
   "codemirror_mode": {
    "name": "ipython",
    "version": 3
   },
   "file_extension": ".py",
   "mimetype": "text/x-python",
   "name": "python",
   "nbconvert_exporter": "python",
   "pygments_lexer": "ipython3",
   "version": "3.7.11"
  }
 },
 "nbformat": 4,
 "nbformat_minor": 5
}
