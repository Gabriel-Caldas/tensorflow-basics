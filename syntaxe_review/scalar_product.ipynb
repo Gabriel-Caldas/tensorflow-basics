{
 "cells": [
  {
   "cell_type": "code",
   "execution_count": 2,
   "id": "42950ea1",
   "metadata": {},
   "outputs": [
    {
     "data": {
      "text/plain": [
       "'1.15.0'"
      ]
     },
     "execution_count": 2,
     "metadata": {},
     "output_type": "execute_result"
    }
   ],
   "source": [
    "import tensorflow as tf\n",
    "tf.__version__"
   ]
  },
  {
   "cell_type": "code",
   "execution_count": 6,
   "id": "78790677",
   "metadata": {},
   "outputs": [],
   "source": [
    "input_matrix = tf.constant([[-1.0, 7.0, 5.0]], name = 'inputs')\n",
    "weights = tf.constant([[0.8, 0.1, 0.0]], name = 'weights')"
   ]
  },
  {
   "cell_type": "code",
   "execution_count": 7,
   "id": "d55f1267",
   "metadata": {},
   "outputs": [],
   "source": [
    "# tf.multiply() returns the hadamard product between 2 matrices\n",
    "# tf.multiply() != tf.matmul()\n",
    "multiplication = tf.multiply(input_matrix, weights)\n",
    "sum1 = tf.reduce_sum(multiplication)"
   ]
  },
  {
   "cell_type": "code",
   "execution_count": 9,
   "id": "2b305152",
   "metadata": {},
   "outputs": [
    {
     "name": "stdout",
     "output_type": "stream",
     "text": [
      "input matrix:\n",
      " [[-1.  7.  5.]]\n",
      "weights:\n",
      " [[0.8 0.1 0. ]]\n",
      "multiplication:\n",
      " [[-0.8  0.7  0. ]]\n",
      "sum:\n",
      " -0.100000024\n"
     ]
    }
   ],
   "source": [
    "with tf.Session() as sess:\n",
    "    print('input matrix:\\n',sess.run(input_matrix))\n",
    "    print('weights:\\n',sess.run(weights))\n",
    "    \n",
    "    print('multiplication:\\n',sess.run(multiplication))\n",
    "    print('sum:\\n',sess.run(sum1))"
   ]
  },
  {
   "cell_type": "code",
   "execution_count": null,
   "id": "67a85b57",
   "metadata": {},
   "outputs": [],
   "source": []
  }
 ],
 "metadata": {
  "kernelspec": {
   "display_name": "Python 3 (ipykernel)",
   "language": "python",
   "name": "python3"
  },
  "language_info": {
   "codemirror_mode": {
    "name": "ipython",
    "version": 3
   },
   "file_extension": ".py",
   "mimetype": "text/x-python",
   "name": "python",
   "nbconvert_exporter": "python",
   "pygments_lexer": "ipython3",
   "version": "3.7.11"
  }
 },
 "nbformat": 4,
 "nbformat_minor": 5
}
